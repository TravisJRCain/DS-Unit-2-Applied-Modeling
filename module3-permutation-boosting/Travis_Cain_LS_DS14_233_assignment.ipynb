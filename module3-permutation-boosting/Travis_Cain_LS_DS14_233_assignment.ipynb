{
  "nbformat": 4,
  "nbformat_minor": 0,
  "metadata": {
    "kernelspec": {
      "display_name": "Python 3",
      "language": "python",
      "name": "python3"
    },
    "language_info": {
      "codemirror_mode": {
        "name": "ipython",
        "version": 3
      },
      "file_extension": ".py",
      "mimetype": "text/x-python",
      "name": "python",
      "nbconvert_exporter": "python",
      "pygments_lexer": "ipython3",
      "version": "3.7.3"
    },
    "colab": {
      "name": "Travis_Cain_LS_DS14_233_assignment.ipynb",
      "provenance": [],
      "include_colab_link": true
    }
  },
  "cells": [
    {
      "cell_type": "markdown",
      "metadata": {
        "id": "view-in-github",
        "colab_type": "text"
      },
      "source": [
        "<a href=\"https://colab.research.google.com/github/TravisJRCain/DS-Unit-2-Applied-Modeling/blob/master/module3-permutation-boosting/Travis_Cain_LS_DS14_233_assignment.ipynb\" target=\"_parent\"><img src=\"https://colab.research.google.com/assets/colab-badge.svg\" alt=\"Open In Colab\"/></a>"
      ]
    },
    {
      "cell_type": "markdown",
      "metadata": {
        "colab_type": "text",
        "id": "nCc3XZEyG3XV"
      },
      "source": [
        "Lambda School Data Science\n",
        "\n",
        "*Unit 2, Sprint 3, Module 3*\n",
        "\n",
        "---\n",
        "\n",
        "\n",
        "# Permutation & Boosting\n",
        "\n",
        "You will use your portfolio project dataset for all assignments this sprint.\n",
        "\n",
        "## Assignment\n",
        "\n",
        "Complete these tasks for your project, and document your work.\n",
        "\n",
        "- [ ] If you haven't completed assignment #1, please do so first.\n",
        "- [ ] Continue to clean and explore your data. Make exploratory visualizations.\n",
        "- [ ] Fit a model. Does it beat your baseline? \n",
        "- [ ] Try xgboost.\n",
        "- [ ] Get your model's permutation importances.\n",
        "\n",
        "You should try to complete an initial model today, because the rest of the week, we're making model interpretation visualizations.\n",
        "\n",
        "But, if you aren't ready to try xgboost and permutation importances with your dataset today, that's okay. You can practice with another dataset instead. You may choose any dataset you've worked with previously.\n",
        "\n",
        "The data subdirectory includes the Titanic dataset for classification and the NYC apartments dataset for regression. You may want to choose one of these datasets, because example solutions will be available for each.\n",
        "\n",
        "\n",
        "## Reading\n",
        "\n",
        "Top recommendations in _**bold italic:**_\n",
        "\n",
        "#### Permutation Importances\n",
        "- _**[Kaggle / Dan Becker: Machine Learning Explainability](https://www.kaggle.com/dansbecker/permutation-importance)**_\n",
        "- [Christoph Molnar: Interpretable Machine Learning](https://christophm.github.io/interpretable-ml-book/feature-importance.html)\n",
        "\n",
        "#### (Default) Feature Importances\n",
        "  - [Ando Saabas: Selecting good features, Part 3, Random Forests](https://blog.datadive.net/selecting-good-features-part-iii-random-forests/)\n",
        "  - [Terence Parr, et al: Beware Default Random Forest Importances](https://explained.ai/rf-importance/index.html)\n",
        "\n",
        "#### Gradient Boosting\n",
        "  - [A Gentle Introduction to the Gradient Boosting Algorithm for Machine Learning](https://machinelearningmastery.com/gentle-introduction-gradient-boosting-algorithm-machine-learning/)\n",
        "  - [An Introduction to Statistical Learning](http://www-bcf.usc.edu/~gareth/ISL/ISLR%20Seventh%20Printing.pdf), Chapter 8\n",
        "  - _**[Gradient Boosting Explained](https://www.gormanalysis.com/blog/gradient-boosting-explained/)**_ — Ben Gorman\n",
        "  - [Gradient Boosting Explained](http://arogozhnikov.github.io/2016/06/24/gradient_boosting_explained.html) — Alex Rogozhnikov\n",
        "  - [How to explain gradient boosting](https://explained.ai/gradient-boosting/) — Terence Parr & Jeremy Howard"
      ]
    },
    {
      "cell_type": "code",
      "metadata": {
        "id": "Gt_js_LSHITZ",
        "colab_type": "code",
        "colab": {
          "base_uri": "https://localhost:8080/",
          "height": 247
        },
        "outputId": "f7b7c99c-72b5-4285-af58-a390a71f7782"
      },
      "source": [
        "### PyBaseball ###\n",
        "pip install pybaseball"
      ],
      "execution_count": 29,
      "outputs": [
        {
          "output_type": "stream",
          "text": [
            "Requirement already satisfied: pybaseball in /usr/local/lib/python3.6/dist-packages (1.0.8)\n",
            "Requirement already satisfied: beautifulsoup4>=4.4.0 in /usr/local/lib/python3.6/dist-packages (from pybaseball) (4.6.3)\n",
            "Requirement already satisfied: requests>=2.18.1 in /usr/local/lib/python3.6/dist-packages (from pybaseball) (2.21.0)\n",
            "Requirement already satisfied: lxml>=4.2.1 in /usr/local/lib/python3.6/dist-packages (from pybaseball) (4.2.6)\n",
            "Requirement already satisfied: pandas>=0.20.2 in /usr/local/lib/python3.6/dist-packages (from pybaseball) (1.0.3)\n",
            "Requirement already satisfied: numpy>=1.13.0 in /usr/local/lib/python3.6/dist-packages (from pybaseball) (1.18.2)\n",
            "Requirement already satisfied: chardet<3.1.0,>=3.0.2 in /usr/local/lib/python3.6/dist-packages (from requests>=2.18.1->pybaseball) (3.0.4)\n",
            "Requirement already satisfied: idna<2.9,>=2.5 in /usr/local/lib/python3.6/dist-packages (from requests>=2.18.1->pybaseball) (2.8)\n",
            "Requirement already satisfied: certifi>=2017.4.17 in /usr/local/lib/python3.6/dist-packages (from requests>=2.18.1->pybaseball) (2020.4.5.1)\n",
            "Requirement already satisfied: urllib3<1.25,>=1.21.1 in /usr/local/lib/python3.6/dist-packages (from requests>=2.18.1->pybaseball) (1.24.3)\n",
            "Requirement already satisfied: python-dateutil>=2.6.1 in /usr/local/lib/python3.6/dist-packages (from pandas>=0.20.2->pybaseball) (2.8.1)\n",
            "Requirement already satisfied: pytz>=2017.2 in /usr/local/lib/python3.6/dist-packages (from pandas>=0.20.2->pybaseball) (2018.9)\n",
            "Requirement already satisfied: six>=1.5 in /usr/local/lib/python3.6/dist-packages (from python-dateutil>=2.6.1->pandas>=0.20.2->pybaseball) (1.12.0)\n"
          ],
          "name": "stdout"
        }
      ]
    },
    {
      "cell_type": "code",
      "metadata": {
        "id": "X5LWAjrMHaYM",
        "colab_type": "code",
        "colab": {}
      },
      "source": [
        "from pybaseball import statcast\n",
        "import pandas as pd\n",
        "import numpy as np\n",
        "import matplotlib.pyplot as plt\n",
        "import seaborn as sns\n",
        "import warnings\n",
        "import sys\n",
        "from pybaseball import batting_stats\n",
        "import matplotlib.pyplot as plt\n",
        "warnings.filterwarnings('ignore')\n",
        "%matplotlib inline"
      ],
      "execution_count": 0,
      "outputs": []
    },
    {
      "cell_type": "code",
      "metadata": {
        "id": "gyqVj04DHjme",
        "colab_type": "code",
        "colab": {
          "base_uri": "https://localhost:8080/",
          "height": 363
        },
        "outputId": "c95b5253-8b61-401c-b263-a7525ff3eb64"
      },
      "source": [
        "df = batting_stats(2012, 2019, league='all')\n",
        "df.head()"
      ],
      "execution_count": 31,
      "outputs": [
        {
          "output_type": "execute_result",
          "data": {
            "text/html": [
              "<div>\n",
              "<style scoped>\n",
              "    .dataframe tbody tr th:only-of-type {\n",
              "        vertical-align: middle;\n",
              "    }\n",
              "\n",
              "    .dataframe tbody tr th {\n",
              "        vertical-align: top;\n",
              "    }\n",
              "\n",
              "    .dataframe thead th {\n",
              "        text-align: right;\n",
              "    }\n",
              "</style>\n",
              "<table border=\"1\" class=\"dataframe\">\n",
              "  <thead>\n",
              "    <tr style=\"text-align: right;\">\n",
              "      <th></th>\n",
              "      <th>Season</th>\n",
              "      <th>Name</th>\n",
              "      <th>Team</th>\n",
              "      <th>Age</th>\n",
              "      <th>G</th>\n",
              "      <th>AB</th>\n",
              "      <th>PA</th>\n",
              "      <th>H</th>\n",
              "      <th>1B</th>\n",
              "      <th>2B</th>\n",
              "      <th>3B</th>\n",
              "      <th>HR</th>\n",
              "      <th>R</th>\n",
              "      <th>RBI</th>\n",
              "      <th>BB</th>\n",
              "      <th>IBB</th>\n",
              "      <th>SO</th>\n",
              "      <th>HBP</th>\n",
              "      <th>SF</th>\n",
              "      <th>SH</th>\n",
              "      <th>GDP</th>\n",
              "      <th>SB</th>\n",
              "      <th>CS</th>\n",
              "      <th>AVG</th>\n",
              "      <th>GB</th>\n",
              "      <th>FB</th>\n",
              "      <th>LD</th>\n",
              "      <th>IFFB</th>\n",
              "      <th>Pitches</th>\n",
              "      <th>Balls</th>\n",
              "      <th>Strikes</th>\n",
              "      <th>IFH</th>\n",
              "      <th>BU</th>\n",
              "      <th>BUH</th>\n",
              "      <th>BB%</th>\n",
              "      <th>K%</th>\n",
              "      <th>BB/K</th>\n",
              "      <th>OBP</th>\n",
              "      <th>SLG</th>\n",
              "      <th>OPS</th>\n",
              "      <th>...</th>\n",
              "      <th>CS-Z (pi)</th>\n",
              "      <th>CU-Z (pi)</th>\n",
              "      <th>FA-Z (pi)</th>\n",
              "      <th>FC-Z (pi)</th>\n",
              "      <th>FS-Z (pi)</th>\n",
              "      <th>KN-Z (pi)</th>\n",
              "      <th>SB-Z (pi)</th>\n",
              "      <th>SI-Z (pi)</th>\n",
              "      <th>SL-Z (pi)</th>\n",
              "      <th>XX-Z (pi)</th>\n",
              "      <th>wCH (pi)</th>\n",
              "      <th>wCS (pi)</th>\n",
              "      <th>wCU (pi)</th>\n",
              "      <th>wFA (pi)</th>\n",
              "      <th>wFC (pi)</th>\n",
              "      <th>wFS (pi)</th>\n",
              "      <th>wKN (pi)</th>\n",
              "      <th>wSB (pi)</th>\n",
              "      <th>wSI (pi)</th>\n",
              "      <th>wSL (pi)</th>\n",
              "      <th>wXX (pi)</th>\n",
              "      <th>wCH/C (pi)</th>\n",
              "      <th>wCS/C (pi)</th>\n",
              "      <th>wCU/C (pi)</th>\n",
              "      <th>wFA/C (pi)</th>\n",
              "      <th>wFC/C (pi)</th>\n",
              "      <th>wFS/C (pi)</th>\n",
              "      <th>wKN/C (pi)</th>\n",
              "      <th>wSB/C (pi)</th>\n",
              "      <th>wSI/C (pi)</th>\n",
              "      <th>wSL/C (pi)</th>\n",
              "      <th>wXX/C (pi)</th>\n",
              "      <th>O-Swing% (pi)</th>\n",
              "      <th>Z-Swing% (pi)</th>\n",
              "      <th>Swing% (pi)</th>\n",
              "      <th>O-Contact% (pi)</th>\n",
              "      <th>Z-Contact% (pi)</th>\n",
              "      <th>Contact% (pi)</th>\n",
              "      <th>Zone% (pi)</th>\n",
              "      <th>Pace (pi)</th>\n",
              "    </tr>\n",
              "  </thead>\n",
              "  <tbody>\n",
              "    <tr>\n",
              "      <th>140</th>\n",
              "      <td>2018.0</td>\n",
              "      <td>Mookie Betts</td>\n",
              "      <td>Red Sox</td>\n",
              "      <td>25.0</td>\n",
              "      <td>136.0</td>\n",
              "      <td>520.0</td>\n",
              "      <td>614.0</td>\n",
              "      <td>180.0</td>\n",
              "      <td>96.0</td>\n",
              "      <td>47.0</td>\n",
              "      <td>5.0</td>\n",
              "      <td>32.0</td>\n",
              "      <td>129.0</td>\n",
              "      <td>80.0</td>\n",
              "      <td>81.0</td>\n",
              "      <td>8.0</td>\n",
              "      <td>91.0</td>\n",
              "      <td>8.0</td>\n",
              "      <td>5.0</td>\n",
              "      <td>0.0</td>\n",
              "      <td>5.0</td>\n",
              "      <td>30.0</td>\n",
              "      <td>6.0</td>\n",
              "      <td>0.346</td>\n",
              "      <td>147.0</td>\n",
              "      <td>195.0</td>\n",
              "      <td>92.0</td>\n",
              "      <td>18.0</td>\n",
              "      <td>2582.0</td>\n",
              "      <td>1095.0</td>\n",
              "      <td>1487.0</td>\n",
              "      <td>14.0</td>\n",
              "      <td>0.0</td>\n",
              "      <td>0.0</td>\n",
              "      <td>0.132</td>\n",
              "      <td>0.148</td>\n",
              "      <td>0.89</td>\n",
              "      <td>0.438</td>\n",
              "      <td>0.640</td>\n",
              "      <td>1.078</td>\n",
              "      <td>...</td>\n",
              "      <td>NaN</td>\n",
              "      <td>-6.2</td>\n",
              "      <td>9.0</td>\n",
              "      <td>4.9</td>\n",
              "      <td>2.1</td>\n",
              "      <td>NaN</td>\n",
              "      <td>NaN</td>\n",
              "      <td>5.3</td>\n",
              "      <td>0.6</td>\n",
              "      <td>NaN</td>\n",
              "      <td>10.2</td>\n",
              "      <td>NaN</td>\n",
              "      <td>0.4</td>\n",
              "      <td>19.6</td>\n",
              "      <td>4.6</td>\n",
              "      <td>4.0</td>\n",
              "      <td>NaN</td>\n",
              "      <td>NaN</td>\n",
              "      <td>20.3</td>\n",
              "      <td>10.1</td>\n",
              "      <td>NaN</td>\n",
              "      <td>3.62</td>\n",
              "      <td>NaN</td>\n",
              "      <td>0.23</td>\n",
              "      <td>1.96</td>\n",
              "      <td>3.87</td>\n",
              "      <td>6.68</td>\n",
              "      <td>NaN</td>\n",
              "      <td>NaN</td>\n",
              "      <td>4.98</td>\n",
              "      <td>1.93</td>\n",
              "      <td>NaN</td>\n",
              "      <td>0.185</td>\n",
              "      <td>0.535</td>\n",
              "      <td>0.356</td>\n",
              "      <td>0.658</td>\n",
              "      <td>0.926</td>\n",
              "      <td>0.855</td>\n",
              "      <td>0.490</td>\n",
              "      <td>23.3</td>\n",
              "    </tr>\n",
              "    <tr>\n",
              "      <th>233</th>\n",
              "      <td>2013.0</td>\n",
              "      <td>Mike Trout</td>\n",
              "      <td>Angels</td>\n",
              "      <td>21.0</td>\n",
              "      <td>157.0</td>\n",
              "      <td>589.0</td>\n",
              "      <td>716.0</td>\n",
              "      <td>190.0</td>\n",
              "      <td>115.0</td>\n",
              "      <td>39.0</td>\n",
              "      <td>9.0</td>\n",
              "      <td>27.0</td>\n",
              "      <td>109.0</td>\n",
              "      <td>97.0</td>\n",
              "      <td>110.0</td>\n",
              "      <td>10.0</td>\n",
              "      <td>136.0</td>\n",
              "      <td>9.0</td>\n",
              "      <td>8.0</td>\n",
              "      <td>0.0</td>\n",
              "      <td>8.0</td>\n",
              "      <td>33.0</td>\n",
              "      <td>7.0</td>\n",
              "      <td>0.323</td>\n",
              "      <td>191.0</td>\n",
              "      <td>164.0</td>\n",
              "      <td>106.0</td>\n",
              "      <td>6.0</td>\n",
              "      <td>3015.0</td>\n",
              "      <td>1295.0</td>\n",
              "      <td>1720.0</td>\n",
              "      <td>31.0</td>\n",
              "      <td>0.0</td>\n",
              "      <td>0.0</td>\n",
              "      <td>0.154</td>\n",
              "      <td>0.190</td>\n",
              "      <td>0.81</td>\n",
              "      <td>0.432</td>\n",
              "      <td>0.557</td>\n",
              "      <td>0.988</td>\n",
              "      <td>...</td>\n",
              "      <td>-13.3</td>\n",
              "      <td>-5.6</td>\n",
              "      <td>9.7</td>\n",
              "      <td>5.4</td>\n",
              "      <td>2.8</td>\n",
              "      <td>0.8</td>\n",
              "      <td>NaN</td>\n",
              "      <td>6.2</td>\n",
              "      <td>1.1</td>\n",
              "      <td>NaN</td>\n",
              "      <td>8.8</td>\n",
              "      <td>-0.2</td>\n",
              "      <td>2.0</td>\n",
              "      <td>19.9</td>\n",
              "      <td>1.6</td>\n",
              "      <td>1.8</td>\n",
              "      <td>-0.2</td>\n",
              "      <td>NaN</td>\n",
              "      <td>27.2</td>\n",
              "      <td>4.9</td>\n",
              "      <td>NaN</td>\n",
              "      <td>3.55</td>\n",
              "      <td>-17.26</td>\n",
              "      <td>0.78</td>\n",
              "      <td>1.65</td>\n",
              "      <td>0.98</td>\n",
              "      <td>3.57</td>\n",
              "      <td>-1.48</td>\n",
              "      <td>NaN</td>\n",
              "      <td>4.67</td>\n",
              "      <td>1.06</td>\n",
              "      <td>NaN</td>\n",
              "      <td>0.236</td>\n",
              "      <td>0.530</td>\n",
              "      <td>0.375</td>\n",
              "      <td>0.696</td>\n",
              "      <td>0.882</td>\n",
              "      <td>0.821</td>\n",
              "      <td>0.475</td>\n",
              "      <td>24.9</td>\n",
              "    </tr>\n",
              "    <tr>\n",
              "      <th>280</th>\n",
              "      <td>2012.0</td>\n",
              "      <td>Mike Trout</td>\n",
              "      <td>Angels</td>\n",
              "      <td>20.0</td>\n",
              "      <td>139.0</td>\n",
              "      <td>559.0</td>\n",
              "      <td>639.0</td>\n",
              "      <td>182.0</td>\n",
              "      <td>117.0</td>\n",
              "      <td>27.0</td>\n",
              "      <td>8.0</td>\n",
              "      <td>30.0</td>\n",
              "      <td>129.0</td>\n",
              "      <td>83.0</td>\n",
              "      <td>67.0</td>\n",
              "      <td>4.0</td>\n",
              "      <td>139.0</td>\n",
              "      <td>6.0</td>\n",
              "      <td>7.0</td>\n",
              "      <td>0.0</td>\n",
              "      <td>7.0</td>\n",
              "      <td>49.0</td>\n",
              "      <td>5.0</td>\n",
              "      <td>0.326</td>\n",
              "      <td>187.0</td>\n",
              "      <td>139.0</td>\n",
              "      <td>95.0</td>\n",
              "      <td>6.0</td>\n",
              "      <td>2608.0</td>\n",
              "      <td>992.0</td>\n",
              "      <td>1616.0</td>\n",
              "      <td>22.0</td>\n",
              "      <td>6.0</td>\n",
              "      <td>3.0</td>\n",
              "      <td>0.105</td>\n",
              "      <td>0.218</td>\n",
              "      <td>0.48</td>\n",
              "      <td>0.399</td>\n",
              "      <td>0.564</td>\n",
              "      <td>0.963</td>\n",
              "      <td>...</td>\n",
              "      <td>-9.6</td>\n",
              "      <td>-5.2</td>\n",
              "      <td>9.3</td>\n",
              "      <td>5.4</td>\n",
              "      <td>3.2</td>\n",
              "      <td>NaN</td>\n",
              "      <td>NaN</td>\n",
              "      <td>5.8</td>\n",
              "      <td>1.1</td>\n",
              "      <td>NaN</td>\n",
              "      <td>9.5</td>\n",
              "      <td>0.0</td>\n",
              "      <td>1.0</td>\n",
              "      <td>7.0</td>\n",
              "      <td>5.4</td>\n",
              "      <td>0.6</td>\n",
              "      <td>NaN</td>\n",
              "      <td>NaN</td>\n",
              "      <td>11.5</td>\n",
              "      <td>15.1</td>\n",
              "      <td>NaN</td>\n",
              "      <td>6.31</td>\n",
              "      <td>0.23</td>\n",
              "      <td>0.49</td>\n",
              "      <td>0.63</td>\n",
              "      <td>3.68</td>\n",
              "      <td>1.66</td>\n",
              "      <td>NaN</td>\n",
              "      <td>NaN</td>\n",
              "      <td>2.11</td>\n",
              "      <td>3.91</td>\n",
              "      <td>NaN</td>\n",
              "      <td>0.248</td>\n",
              "      <td>0.533</td>\n",
              "      <td>0.396</td>\n",
              "      <td>0.700</td>\n",
              "      <td>0.867</td>\n",
              "      <td>0.817</td>\n",
              "      <td>0.518</td>\n",
              "      <td>23.7</td>\n",
              "    </tr>\n",
              "    <tr>\n",
              "      <th>287</th>\n",
              "      <td>2012.0</td>\n",
              "      <td>Buster Posey</td>\n",
              "      <td>Giants</td>\n",
              "      <td>25.0</td>\n",
              "      <td>148.0</td>\n",
              "      <td>530.0</td>\n",
              "      <td>610.0</td>\n",
              "      <td>178.0</td>\n",
              "      <td>114.0</td>\n",
              "      <td>39.0</td>\n",
              "      <td>1.0</td>\n",
              "      <td>24.0</td>\n",
              "      <td>78.0</td>\n",
              "      <td>103.0</td>\n",
              "      <td>69.0</td>\n",
              "      <td>7.0</td>\n",
              "      <td>96.0</td>\n",
              "      <td>2.0</td>\n",
              "      <td>9.0</td>\n",
              "      <td>0.0</td>\n",
              "      <td>19.0</td>\n",
              "      <td>1.0</td>\n",
              "      <td>1.0</td>\n",
              "      <td>0.336</td>\n",
              "      <td>206.0</td>\n",
              "      <td>128.0</td>\n",
              "      <td>109.0</td>\n",
              "      <td>5.0</td>\n",
              "      <td>2599.0</td>\n",
              "      <td>1027.0</td>\n",
              "      <td>1572.0</td>\n",
              "      <td>17.0</td>\n",
              "      <td>0.0</td>\n",
              "      <td>0.0</td>\n",
              "      <td>0.113</td>\n",
              "      <td>0.157</td>\n",
              "      <td>0.72</td>\n",
              "      <td>0.408</td>\n",
              "      <td>0.549</td>\n",
              "      <td>0.957</td>\n",
              "      <td>...</td>\n",
              "      <td>-7.0</td>\n",
              "      <td>-5.4</td>\n",
              "      <td>9.3</td>\n",
              "      <td>5.2</td>\n",
              "      <td>3.3</td>\n",
              "      <td>NaN</td>\n",
              "      <td>NaN</td>\n",
              "      <td>5.7</td>\n",
              "      <td>1.1</td>\n",
              "      <td>NaN</td>\n",
              "      <td>12.8</td>\n",
              "      <td>0.1</td>\n",
              "      <td>-2.0</td>\n",
              "      <td>14.0</td>\n",
              "      <td>5.2</td>\n",
              "      <td>3.2</td>\n",
              "      <td>NaN</td>\n",
              "      <td>NaN</td>\n",
              "      <td>12.9</td>\n",
              "      <td>-4.9</td>\n",
              "      <td>NaN</td>\n",
              "      <td>6.48</td>\n",
              "      <td>3.76</td>\n",
              "      <td>-0.69</td>\n",
              "      <td>1.76</td>\n",
              "      <td>2.30</td>\n",
              "      <td>12.98</td>\n",
              "      <td>NaN</td>\n",
              "      <td>NaN</td>\n",
              "      <td>2.15</td>\n",
              "      <td>-1.11</td>\n",
              "      <td>NaN</td>\n",
              "      <td>0.251</td>\n",
              "      <td>0.588</td>\n",
              "      <td>0.418</td>\n",
              "      <td>0.742</td>\n",
              "      <td>0.899</td>\n",
              "      <td>0.852</td>\n",
              "      <td>0.496</td>\n",
              "      <td>22.9</td>\n",
              "    </tr>\n",
              "    <tr>\n",
              "      <th>145</th>\n",
              "      <td>2018.0</td>\n",
              "      <td>Mike Trout</td>\n",
              "      <td>Angels</td>\n",
              "      <td>26.0</td>\n",
              "      <td>140.0</td>\n",
              "      <td>471.0</td>\n",
              "      <td>608.0</td>\n",
              "      <td>147.0</td>\n",
              "      <td>80.0</td>\n",
              "      <td>24.0</td>\n",
              "      <td>4.0</td>\n",
              "      <td>39.0</td>\n",
              "      <td>101.0</td>\n",
              "      <td>79.0</td>\n",
              "      <td>122.0</td>\n",
              "      <td>25.0</td>\n",
              "      <td>124.0</td>\n",
              "      <td>10.0</td>\n",
              "      <td>4.0</td>\n",
              "      <td>0.0</td>\n",
              "      <td>5.0</td>\n",
              "      <td>24.0</td>\n",
              "      <td>2.0</td>\n",
              "      <td>0.312</td>\n",
              "      <td>110.0</td>\n",
              "      <td>159.0</td>\n",
              "      <td>82.0</td>\n",
              "      <td>15.0</td>\n",
              "      <td>2543.0</td>\n",
              "      <td>1075.0</td>\n",
              "      <td>1468.0</td>\n",
              "      <td>11.0</td>\n",
              "      <td>0.0</td>\n",
              "      <td>0.0</td>\n",
              "      <td>0.201</td>\n",
              "      <td>0.204</td>\n",
              "      <td>0.98</td>\n",
              "      <td>0.460</td>\n",
              "      <td>0.628</td>\n",
              "      <td>1.088</td>\n",
              "      <td>...</td>\n",
              "      <td>NaN</td>\n",
              "      <td>-6.2</td>\n",
              "      <td>9.0</td>\n",
              "      <td>5.2</td>\n",
              "      <td>2.3</td>\n",
              "      <td>NaN</td>\n",
              "      <td>NaN</td>\n",
              "      <td>5.0</td>\n",
              "      <td>0.8</td>\n",
              "      <td>12.2</td>\n",
              "      <td>9.5</td>\n",
              "      <td>NaN</td>\n",
              "      <td>3.5</td>\n",
              "      <td>21.4</td>\n",
              "      <td>5.2</td>\n",
              "      <td>0.7</td>\n",
              "      <td>NaN</td>\n",
              "      <td>NaN</td>\n",
              "      <td>11.3</td>\n",
              "      <td>10.6</td>\n",
              "      <td>-0.1</td>\n",
              "      <td>5.81</td>\n",
              "      <td>NaN</td>\n",
              "      <td>1.65</td>\n",
              "      <td>1.92</td>\n",
              "      <td>2.57</td>\n",
              "      <td>2.83</td>\n",
              "      <td>NaN</td>\n",
              "      <td>NaN</td>\n",
              "      <td>2.80</td>\n",
              "      <td>2.55</td>\n",
              "      <td>-5.67</td>\n",
              "      <td>0.198</td>\n",
              "      <td>0.555</td>\n",
              "      <td>0.376</td>\n",
              "      <td>0.660</td>\n",
              "      <td>0.903</td>\n",
              "      <td>0.839</td>\n",
              "      <td>0.498</td>\n",
              "      <td>23.3</td>\n",
              "    </tr>\n",
              "  </tbody>\n",
              "</table>\n",
              "<p>5 rows × 287 columns</p>\n",
              "</div>"
            ],
            "text/plain": [
              "     Season          Name     Team  ...  Contact% (pi)  Zone% (pi)  Pace (pi)\n",
              "140  2018.0  Mookie Betts  Red Sox  ...          0.855       0.490       23.3\n",
              "233  2013.0    Mike Trout   Angels  ...          0.821       0.475       24.9\n",
              "280  2012.0    Mike Trout   Angels  ...          0.817       0.518       23.7\n",
              "287  2012.0  Buster Posey   Giants  ...          0.852       0.496       22.9\n",
              "145  2018.0    Mike Trout   Angels  ...          0.839       0.498       23.3\n",
              "\n",
              "[5 rows x 287 columns]"
            ]
          },
          "metadata": {
            "tags": []
          },
          "execution_count": 31
        }
      ]
    },
    {
      "cell_type": "code",
      "metadata": {
        "id": "wxlynU9YHlwA",
        "colab_type": "code",
        "colab": {
          "base_uri": "https://localhost:8080/",
          "height": 34
        },
        "outputId": "e3a4f259-a6d9-4ae7-f796-8245cd2c100f"
      },
      "source": [
        "df.shape"
      ],
      "execution_count": 34,
      "outputs": [
        {
          "output_type": "execute_result",
          "data": {
            "text/plain": [
              "(7726, 287)"
            ]
          },
          "metadata": {
            "tags": []
          },
          "execution_count": 34
        }
      ]
    },
    {
      "cell_type": "code",
      "metadata": {
        "id": "n1b-Pu2sJQHN",
        "colab_type": "code",
        "colab": {}
      },
      "source": [
        "# Predicting if Juan Soto will hit a HR or not\n",
        "# How many HRs will Juan Soto hit in 2020"
      ],
      "execution_count": 0,
      "outputs": []
    },
    {
      "cell_type": "code",
      "metadata": {
        "id": "2isvTMOt6W7f",
        "colab_type": "code",
        "colab": {
          "base_uri": "https://localhost:8080/",
          "height": 223
        },
        "outputId": "7d4b4380-e1b1-44b4-9eb3-860ea34fd02d"
      },
      "source": [
        "juan_soto = df.loc[df['Name'] == 'Juan Soto']\n",
        "juan_soto"
      ],
      "execution_count": 36,
      "outputs": [
        {
          "output_type": "execute_result",
          "data": {
            "text/html": [
              "<div>\n",
              "<style scoped>\n",
              "    .dataframe tbody tr th:only-of-type {\n",
              "        vertical-align: middle;\n",
              "    }\n",
              "\n",
              "    .dataframe tbody tr th {\n",
              "        vertical-align: top;\n",
              "    }\n",
              "\n",
              "    .dataframe thead th {\n",
              "        text-align: right;\n",
              "    }\n",
              "</style>\n",
              "<table border=\"1\" class=\"dataframe\">\n",
              "  <thead>\n",
              "    <tr style=\"text-align: right;\">\n",
              "      <th></th>\n",
              "      <th>Season</th>\n",
              "      <th>Name</th>\n",
              "      <th>Team</th>\n",
              "      <th>Age</th>\n",
              "      <th>G</th>\n",
              "      <th>AB</th>\n",
              "      <th>PA</th>\n",
              "      <th>H</th>\n",
              "      <th>1B</th>\n",
              "      <th>2B</th>\n",
              "      <th>3B</th>\n",
              "      <th>HR</th>\n",
              "      <th>R</th>\n",
              "      <th>RBI</th>\n",
              "      <th>BB</th>\n",
              "      <th>IBB</th>\n",
              "      <th>SO</th>\n",
              "      <th>HBP</th>\n",
              "      <th>SF</th>\n",
              "      <th>SH</th>\n",
              "      <th>GDP</th>\n",
              "      <th>SB</th>\n",
              "      <th>CS</th>\n",
              "      <th>AVG</th>\n",
              "      <th>GB</th>\n",
              "      <th>FB</th>\n",
              "      <th>LD</th>\n",
              "      <th>IFFB</th>\n",
              "      <th>Pitches</th>\n",
              "      <th>Balls</th>\n",
              "      <th>Strikes</th>\n",
              "      <th>IFH</th>\n",
              "      <th>BU</th>\n",
              "      <th>BUH</th>\n",
              "      <th>BB%</th>\n",
              "      <th>K%</th>\n",
              "      <th>BB/K</th>\n",
              "      <th>OBP</th>\n",
              "      <th>SLG</th>\n",
              "      <th>OPS</th>\n",
              "      <th>...</th>\n",
              "      <th>CS-Z (pi)</th>\n",
              "      <th>CU-Z (pi)</th>\n",
              "      <th>FA-Z (pi)</th>\n",
              "      <th>FC-Z (pi)</th>\n",
              "      <th>FS-Z (pi)</th>\n",
              "      <th>KN-Z (pi)</th>\n",
              "      <th>SB-Z (pi)</th>\n",
              "      <th>SI-Z (pi)</th>\n",
              "      <th>SL-Z (pi)</th>\n",
              "      <th>XX-Z (pi)</th>\n",
              "      <th>wCH (pi)</th>\n",
              "      <th>wCS (pi)</th>\n",
              "      <th>wCU (pi)</th>\n",
              "      <th>wFA (pi)</th>\n",
              "      <th>wFC (pi)</th>\n",
              "      <th>wFS (pi)</th>\n",
              "      <th>wKN (pi)</th>\n",
              "      <th>wSB (pi)</th>\n",
              "      <th>wSI (pi)</th>\n",
              "      <th>wSL (pi)</th>\n",
              "      <th>wXX (pi)</th>\n",
              "      <th>wCH/C (pi)</th>\n",
              "      <th>wCS/C (pi)</th>\n",
              "      <th>wCU/C (pi)</th>\n",
              "      <th>wFA/C (pi)</th>\n",
              "      <th>wFC/C (pi)</th>\n",
              "      <th>wFS/C (pi)</th>\n",
              "      <th>wKN/C (pi)</th>\n",
              "      <th>wSB/C (pi)</th>\n",
              "      <th>wSI/C (pi)</th>\n",
              "      <th>wSL/C (pi)</th>\n",
              "      <th>wXX/C (pi)</th>\n",
              "      <th>O-Swing% (pi)</th>\n",
              "      <th>Z-Swing% (pi)</th>\n",
              "      <th>Swing% (pi)</th>\n",
              "      <th>O-Contact% (pi)</th>\n",
              "      <th>Z-Contact% (pi)</th>\n",
              "      <th>Contact% (pi)</th>\n",
              "      <th>Zone% (pi)</th>\n",
              "      <th>Pace (pi)</th>\n",
              "    </tr>\n",
              "  </thead>\n",
              "  <tbody>\n",
              "    <tr>\n",
              "      <th>357</th>\n",
              "      <td>2019.0</td>\n",
              "      <td>Juan Soto</td>\n",
              "      <td>Nationals</td>\n",
              "      <td>20.0</td>\n",
              "      <td>150.0</td>\n",
              "      <td>542.0</td>\n",
              "      <td>659.0</td>\n",
              "      <td>153.0</td>\n",
              "      <td>82.0</td>\n",
              "      <td>32.0</td>\n",
              "      <td>5.0</td>\n",
              "      <td>34.0</td>\n",
              "      <td>110.0</td>\n",
              "      <td>110.0</td>\n",
              "      <td>108.0</td>\n",
              "      <td>3.0</td>\n",
              "      <td>132.0</td>\n",
              "      <td>3.0</td>\n",
              "      <td>6.0</td>\n",
              "      <td>0.0</td>\n",
              "      <td>11.0</td>\n",
              "      <td>12.0</td>\n",
              "      <td>1.0</td>\n",
              "      <td>0.282</td>\n",
              "      <td>171.0</td>\n",
              "      <td>153.0</td>\n",
              "      <td>87.0</td>\n",
              "      <td>7.0</td>\n",
              "      <td>2791.0</td>\n",
              "      <td>1202.0</td>\n",
              "      <td>1589.0</td>\n",
              "      <td>8.0</td>\n",
              "      <td>5.0</td>\n",
              "      <td>1.0</td>\n",
              "      <td>0.164</td>\n",
              "      <td>0.2</td>\n",
              "      <td>0.82</td>\n",
              "      <td>0.401</td>\n",
              "      <td>0.548</td>\n",
              "      <td>0.949</td>\n",
              "      <td>...</td>\n",
              "      <td>-7.0</td>\n",
              "      <td>-6.5</td>\n",
              "      <td>8.3</td>\n",
              "      <td>3.8</td>\n",
              "      <td>1.6</td>\n",
              "      <td>NaN</td>\n",
              "      <td>NaN</td>\n",
              "      <td>4.3</td>\n",
              "      <td>0.6</td>\n",
              "      <td>NaN</td>\n",
              "      <td>7.3</td>\n",
              "      <td>-0.1</td>\n",
              "      <td>6.9</td>\n",
              "      <td>10.3</td>\n",
              "      <td>3.3</td>\n",
              "      <td>2.0</td>\n",
              "      <td>NaN</td>\n",
              "      <td>NaN</td>\n",
              "      <td>11.7</td>\n",
              "      <td>-2.1</td>\n",
              "      <td>NaN</td>\n",
              "      <td>1.87</td>\n",
              "      <td>-4.32</td>\n",
              "      <td>2.49</td>\n",
              "      <td>1.15</td>\n",
              "      <td>2.57</td>\n",
              "      <td>3.38</td>\n",
              "      <td>NaN</td>\n",
              "      <td>NaN</td>\n",
              "      <td>2.47</td>\n",
              "      <td>-0.38</td>\n",
              "      <td>NaN</td>\n",
              "      <td>0.205</td>\n",
              "      <td>0.655</td>\n",
              "      <td>0.407</td>\n",
              "      <td>0.575</td>\n",
              "      <td>0.857</td>\n",
              "      <td>0.779</td>\n",
              "      <td>0.449</td>\n",
              "      <td>27.9</td>\n",
              "    </tr>\n",
              "    <tr>\n",
              "      <th>370</th>\n",
              "      <td>2018.0</td>\n",
              "      <td>Juan Soto</td>\n",
              "      <td>Nationals</td>\n",
              "      <td>19.0</td>\n",
              "      <td>116.0</td>\n",
              "      <td>414.0</td>\n",
              "      <td>494.0</td>\n",
              "      <td>121.0</td>\n",
              "      <td>73.0</td>\n",
              "      <td>25.0</td>\n",
              "      <td>1.0</td>\n",
              "      <td>22.0</td>\n",
              "      <td>77.0</td>\n",
              "      <td>70.0</td>\n",
              "      <td>79.0</td>\n",
              "      <td>10.0</td>\n",
              "      <td>99.0</td>\n",
              "      <td>0.0</td>\n",
              "      <td>0.0</td>\n",
              "      <td>1.0</td>\n",
              "      <td>9.0</td>\n",
              "      <td>5.0</td>\n",
              "      <td>2.0</td>\n",
              "      <td>0.292</td>\n",
              "      <td>166.0</td>\n",
              "      <td>89.0</td>\n",
              "      <td>54.0</td>\n",
              "      <td>7.0</td>\n",
              "      <td>2031.0</td>\n",
              "      <td>839.0</td>\n",
              "      <td>1192.0</td>\n",
              "      <td>7.0</td>\n",
              "      <td>7.0</td>\n",
              "      <td>5.0</td>\n",
              "      <td>0.160</td>\n",
              "      <td>0.2</td>\n",
              "      <td>0.80</td>\n",
              "      <td>0.406</td>\n",
              "      <td>0.517</td>\n",
              "      <td>0.923</td>\n",
              "      <td>...</td>\n",
              "      <td>NaN</td>\n",
              "      <td>-6.2</td>\n",
              "      <td>8.5</td>\n",
              "      <td>4.5</td>\n",
              "      <td>1.9</td>\n",
              "      <td>NaN</td>\n",
              "      <td>NaN</td>\n",
              "      <td>5.1</td>\n",
              "      <td>0.9</td>\n",
              "      <td>NaN</td>\n",
              "      <td>-1.2</td>\n",
              "      <td>NaN</td>\n",
              "      <td>0.4</td>\n",
              "      <td>27.2</td>\n",
              "      <td>-1.3</td>\n",
              "      <td>0.5</td>\n",
              "      <td>NaN</td>\n",
              "      <td>NaN</td>\n",
              "      <td>5.5</td>\n",
              "      <td>-1.0</td>\n",
              "      <td>NaN</td>\n",
              "      <td>-0.44</td>\n",
              "      <td>NaN</td>\n",
              "      <td>0.16</td>\n",
              "      <td>3.99</td>\n",
              "      <td>-1.24</td>\n",
              "      <td>0.83</td>\n",
              "      <td>NaN</td>\n",
              "      <td>NaN</td>\n",
              "      <td>1.95</td>\n",
              "      <td>-0.26</td>\n",
              "      <td>NaN</td>\n",
              "      <td>0.207</td>\n",
              "      <td>0.603</td>\n",
              "      <td>0.387</td>\n",
              "      <td>0.671</td>\n",
              "      <td>0.853</td>\n",
              "      <td>0.800</td>\n",
              "      <td>0.456</td>\n",
              "      <td>24.4</td>\n",
              "    </tr>\n",
              "  </tbody>\n",
              "</table>\n",
              "<p>2 rows × 287 columns</p>\n",
              "</div>"
            ],
            "text/plain": [
              "     Season       Name       Team  ...  Contact% (pi)  Zone% (pi)  Pace (pi)\n",
              "357  2019.0  Juan Soto  Nationals  ...          0.779       0.449       27.9\n",
              "370  2018.0  Juan Soto  Nationals  ...          0.800       0.456       24.4\n",
              "\n",
              "[2 rows x 287 columns]"
            ]
          },
          "metadata": {
            "tags": []
          },
          "execution_count": 36
        }
      ]
    },
    {
      "cell_type": "code",
      "metadata": {
        "id": "bw6iFa556cQN",
        "colab_type": "code",
        "colab": {}
      },
      "source": [
        "# Predicting HR's with certain variables\n",
        "\n",
        "df_HR = df['HR']"
      ],
      "execution_count": 0,
      "outputs": []
    },
    {
      "cell_type": "code",
      "metadata": {
        "id": "zMoPfZw2Bool",
        "colab_type": "code",
        "colab": {
          "base_uri": "https://localhost:8080/",
          "height": 230
        },
        "outputId": "db3dd26c-4ec4-41cb-c19c-8f9ed8f84366"
      },
      "source": [
        "df_HR"
      ],
      "execution_count": 38,
      "outputs": [
        {
          "output_type": "execute_result",
          "data": {
            "text/plain": [
              "140     32.0\n",
              "233     27.0\n",
              "280     30.0\n",
              "287     24.0\n",
              "145     39.0\n",
              "        ... \n",
              "4207     9.0\n",
              "4563     1.0\n",
              "5212     2.0\n",
              "3836    11.0\n",
              "4552    16.0\n",
              "Name: HR, Length: 7726, dtype: float64"
            ]
          },
          "metadata": {
            "tags": []
          },
          "execution_count": 38
        }
      ]
    },
    {
      "cell_type": "code",
      "metadata": {
        "id": "5C_1mrt_xvHg",
        "colab_type": "code",
        "colab": {}
      },
      "source": [
        "train = df[df['Season'] <= 2015.0]\n",
        "val = df[df['Season'] == 2016.0]\n",
        "test = df[df['Season'] >= 2017.0]"
      ],
      "execution_count": 0,
      "outputs": []
    },
    {
      "cell_type": "code",
      "metadata": {
        "id": "fFVFvS2GxxfE",
        "colab_type": "code",
        "colab": {
          "base_uri": "https://localhost:8080/",
          "height": 34
        },
        "outputId": "03e4a89d-12c3-4a4a-eed0-7ffbf891e53e"
      },
      "source": [
        "train.shape, val.shape, test.shape"
      ],
      "execution_count": 41,
      "outputs": [
        {
          "output_type": "execute_result",
          "data": {
            "text/plain": [
              "((3820, 287), (969, 287), (2937, 287))"
            ]
          },
          "metadata": {
            "tags": []
          },
          "execution_count": 41
        }
      ]
    },
    {
      "cell_type": "code",
      "metadata": {
        "id": "vyzv_Ecex4dl",
        "colab_type": "code",
        "colab": {}
      },
      "source": [
        "features = train.columns.tolist()\n",
        "target = 'HR'"
      ],
      "execution_count": 0,
      "outputs": []
    },
    {
      "cell_type": "code",
      "metadata": {
        "id": "pZOJZ1yix9ph",
        "colab_type": "code",
        "colab": {}
      },
      "source": [
        "X_train = train[features]\n",
        "y_train = train[target]\n",
        "X_test = test[features]\n",
        "y_test = test[target]\n",
        "X_val = val[features]\n",
        "y_val = val[target]"
      ],
      "execution_count": 0,
      "outputs": []
    },
    {
      "cell_type": "code",
      "metadata": {
        "id": "x5dtFFvwx_dN",
        "colab_type": "code",
        "colab": {
          "base_uri": "https://localhost:8080/",
          "height": 212
        },
        "outputId": "7ee4c90f-6ffa-4326-dffd-1c99867c7930"
      },
      "source": [
        "pip install category_encoders"
      ],
      "execution_count": 75,
      "outputs": [
        {
          "output_type": "stream",
          "text": [
            "Requirement already satisfied: category_encoders in /usr/local/lib/python3.6/dist-packages (2.1.0)\n",
            "Requirement already satisfied: scikit-learn>=0.20.0 in /usr/local/lib/python3.6/dist-packages (from category_encoders) (0.22.2.post1)\n",
            "Requirement already satisfied: statsmodels>=0.6.1 in /usr/local/lib/python3.6/dist-packages (from category_encoders) (0.10.2)\n",
            "Requirement already satisfied: scipy>=0.19.0 in /usr/local/lib/python3.6/dist-packages (from category_encoders) (1.4.1)\n",
            "Requirement already satisfied: patsy>=0.4.1 in /usr/local/lib/python3.6/dist-packages (from category_encoders) (0.5.1)\n",
            "Requirement already satisfied: numpy>=1.11.3 in /usr/local/lib/python3.6/dist-packages (from category_encoders) (1.18.2)\n",
            "Requirement already satisfied: pandas>=0.21.1 in /usr/local/lib/python3.6/dist-packages (from category_encoders) (1.0.3)\n",
            "Requirement already satisfied: joblib>=0.11 in /usr/local/lib/python3.6/dist-packages (from scikit-learn>=0.20.0->category_encoders) (0.14.1)\n",
            "Requirement already satisfied: six in /usr/local/lib/python3.6/dist-packages (from patsy>=0.4.1->category_encoders) (1.12.0)\n",
            "Requirement already satisfied: python-dateutil>=2.6.1 in /usr/local/lib/python3.6/dist-packages (from pandas>=0.21.1->category_encoders) (2.8.1)\n",
            "Requirement already satisfied: pytz>=2017.2 in /usr/local/lib/python3.6/dist-packages (from pandas>=0.21.1->category_encoders) (2018.9)\n"
          ],
          "name": "stdout"
        }
      ]
    },
    {
      "cell_type": "code",
      "metadata": {
        "id": "eT-OML3CyB6e",
        "colab_type": "code",
        "colab": {}
      },
      "source": [
        "import category_encoders as ce\n",
        "from sklearn.impute import SimpleImputer\n",
        "from sklearn.model_selection import cross_val_score\n",
        "from sklearn.pipeline import make_pipeline\n",
        "from sklearn.ensemble import RandomForestClassifier\n",
        "from sklearn.preprocessing import StandardScaler\n",
        "from sklearn.feature_selection import f_classif, SelectKBest\n",
        "from sklearn.linear_model import Ridge\n",
        "from sklearn.tree import DecisionTreeClassifier\n",
        "from sklearn.ensemble import RandomForestRegressor\n",
        "from sklearn.ensemble import RandomForestClassifier"
      ],
      "execution_count": 0,
      "outputs": []
    },
    {
      "cell_type": "code",
      "metadata": {
        "id": "r2mVeSymyG8I",
        "colab_type": "code",
        "colab": {
          "base_uri": "https://localhost:8080/",
          "height": 278
        },
        "outputId": "28a1efcd-74b3-4c0f-d7a2-b259422bb0a7"
      },
      "source": [
        "import seaborn as sns\n",
        "sns.distplot(df['wRC+']);"
      ],
      "execution_count": 77,
      "outputs": [
        {
          "output_type": "display_data",
          "data": {
            "image/png": "[encoded data removed]",
            "text/plain": [
              "<Figure size 432x288 with 1 Axes>"
            ]
          },
          "metadata": {
            "tags": [],
            "needs_background": "light"
          }
        }
      ]
    },
    {
      "cell_type": "code",
      "metadata": {
        "id": "YhvQEVM95dUh",
        "colab_type": "code",
        "colab": {
          "base_uri": "https://localhost:8080/",
          "height": 278
        },
        "outputId": "4adadc43-d706-4360-fc3b-5aecc8b21f6e"
      },
      "source": [
        "sns.distplot(df['HR']);"
      ],
      "execution_count": 139,
      "outputs": [
        {
          "output_type": "display_data",
          "data": {
            "image/png": "[encoded data removed]",
            "text/plain": [
              "<Figure size 432x288 with 1 Axes>"
            ]
          },
          "metadata": {
            "tags": [],
            "needs_background": "light"
          }
        }
      ]
    },
    {
      "cell_type": "code",
      "metadata": {
        "id": "GaWUjjO15mMc",
        "colab_type": "code",
        "colab": {
          "base_uri": "https://localhost:8080/",
          "height": 34
        },
        "outputId": "44756032-0f32-41f8-ca81-485f5f6bc327"
      },
      "source": [
        "### Baseline ###\n",
        "\n",
        "df['HR'].mean()"
      ],
      "execution_count": 140,
      "outputs": [
        {
          "output_type": "execute_result",
          "data": {
            "text/plain": [
              "5.5353352316852185"
            ]
          },
          "metadata": {
            "tags": []
          },
          "execution_count": 140
        }
      ]
    },
    {
      "cell_type": "code",
      "metadata": {
        "id": "4t4V8Pemz51J",
        "colab_type": "code",
        "colab": {
          "base_uri": "https://localhost:8080/",
          "height": 34
        },
        "outputId": "99403600-9e2b-433e-eb2a-ced40c54eba1"
      },
      "source": [
        "pipeline = make_pipeline(\n",
        "    ce.OrdinalEncoder(), \n",
        "    SimpleImputer(strategy='median'), \n",
        "    RandomForestClassifier(n_estimators=100, random_state=42, n_jobs=-1)\n",
        ")\n",
        "\n",
        "# Fit on train, score on val\n",
        "pipeline.fit(X_train, y_train)\n",
        "print('Validation Accuracy', pipeline.score(X_val, y_val))"
      ],
      "execution_count": 112,
      "outputs": [
        {
          "output_type": "stream",
          "text": [
            "Validation Accuracy 0.7110423116615067\n"
          ],
          "name": "stdout"
        }
      ]
    },
    {
      "cell_type": "code",
      "metadata": {
        "id": "_3AtG-UmyQCM",
        "colab_type": "code",
        "colab": {
          "base_uri": "https://localhost:8080/",
          "height": 70
        },
        "outputId": "d1159cdf-86fe-4ee3-d944-cad480edd9fb"
      },
      "source": [
        "column  = 'K%'\n",
        "\n",
        "# Fit without column\n",
        "pipeline = make_pipeline(\n",
        "    ce.OrdinalEncoder(), \n",
        "    SimpleImputer(strategy='median'), \n",
        "    RandomForestClassifier(n_estimators=100, random_state=42, n_jobs=-1)\n",
        ")\n",
        "pipeline.fit(X_train.drop(columns=column), y_train)\n",
        "score_without = pipeline.score(X_val.drop(columns=column), y_val)\n",
        "print(f'Validation Accuracy without {column}: {score_without}')\n",
        "\n",
        "# Fit with column\n",
        "pipeline = make_pipeline(\n",
        "    ce.OrdinalEncoder(), \n",
        "    SimpleImputer(strategy='median'), \n",
        "    RandomForestClassifier(n_estimators=100, random_state=42, n_jobs=-1)\n",
        ")\n",
        "pipeline.fit(X_train, y_train)\n",
        "score_with = pipeline.score(X_val, y_val)\n",
        "print(f'Validation Accuracy with {column}: {score_with}')\n",
        "\n",
        "# Compare the error with & without column\n",
        "print(f'Drop-Column Importance for {column}: {score_with - score_without}')"
      ],
      "execution_count": 118,
      "outputs": [
        {
          "output_type": "stream",
          "text": [
            "Validation Accuracy without K%: 0.6945304437564499\n",
            "Validation Accuracy with K%: 0.7110423116615067\n",
            "Drop-Column Importance for K%: 0.016511867905056765\n"
          ],
          "name": "stdout"
        }
      ]
    },
    {
      "cell_type": "code",
      "metadata": {
        "id": "EGlQ6Hgi0Mah",
        "colab_type": "code",
        "colab": {
          "base_uri": "https://localhost:8080/",
          "height": 123
        },
        "outputId": "60fd5957-b94c-4ea5-9b35-bdaba24865a3"
      },
      "source": [
        "feature = 'K%'\n",
        "X_val[feature].head()"
      ],
      "execution_count": 119,
      "outputs": [
        {
          "output_type": "execute_result",
          "data": {
            "text/plain": [
              "246    0.201\n",
              "476    0.110\n",
              "342    0.220\n",
              "303    0.170\n",
              "561    0.194\n",
              "Name: K%, dtype: float64"
            ]
          },
          "metadata": {
            "tags": []
          },
          "execution_count": 119
        }
      ]
    },
    {
      "cell_type": "code",
      "metadata": {
        "id": "GJ6IG-I40RhC",
        "colab_type": "code",
        "colab": {
          "base_uri": "https://localhost:8080/",
          "height": 230
        },
        "outputId": "c36ae635-b4e7-4c4e-c644-0591eb804f6b"
      },
      "source": [
        "X_val[feature].value_counts()"
      ],
      "execution_count": 120,
      "outputs": [
        {
          "output_type": "execute_result",
          "data": {
            "text/plain": [
              "0.000    60\n",
              "1.000    52\n",
              "0.500    41\n",
              "0.333    26\n",
              "0.250    14\n",
              "         ..\n",
              "0.376     1\n",
              "0.556     1\n",
              "0.440     1\n",
              "0.327     1\n",
              "0.643     1\n",
              "Name: K%, Length: 315, dtype: int64"
            ]
          },
          "metadata": {
            "tags": []
          },
          "execution_count": 120
        }
      ]
    },
    {
      "cell_type": "code",
      "metadata": {
        "id": "K6ibNrJ00VMC",
        "colab_type": "code",
        "colab": {
          "base_uri": "https://localhost:8080/",
          "height": 230
        },
        "outputId": "d728fb84-c334-443b-e2d3-c87c8f4bcb73"
      },
      "source": [
        "X_val[feature].value_counts(normalize=True)"
      ],
      "execution_count": 121,
      "outputs": [
        {
          "output_type": "execute_result",
          "data": {
            "text/plain": [
              "0.000    0.061920\n",
              "1.000    0.053664\n",
              "0.500    0.042312\n",
              "0.333    0.026832\n",
              "0.250    0.014448\n",
              "           ...   \n",
              "0.376    0.001032\n",
              "0.556    0.001032\n",
              "0.440    0.001032\n",
              "0.327    0.001032\n",
              "0.643    0.001032\n",
              "Name: K%, Length: 315, dtype: float64"
            ]
          },
          "metadata": {
            "tags": []
          },
          "execution_count": 121
        }
      ]
    },
    {
      "cell_type": "code",
      "metadata": {
        "id": "IlQNddEr0Yp_",
        "colab_type": "code",
        "colab": {}
      },
      "source": [
        "X_val_permuted = X_val.copy()\n",
        "X_val_permuted[feature] = np.random.permutation(X_val[feature])"
      ],
      "execution_count": 0,
      "outputs": []
    },
    {
      "cell_type": "code",
      "metadata": {
        "id": "9xBJhGQ70bIX",
        "colab_type": "code",
        "colab": {
          "base_uri": "https://localhost:8080/",
          "height": 123
        },
        "outputId": "a65629dc-41bd-4ee2-bb56-3d467d42b223"
      },
      "source": [
        "X_val_permuted[feature].head()"
      ],
      "execution_count": 123,
      "outputs": [
        {
          "output_type": "execute_result",
          "data": {
            "text/plain": [
              "246    0.231\n",
              "476    0.500\n",
              "342    0.192\n",
              "303    0.231\n",
              "561    0.160\n",
              "Name: K%, dtype: float64"
            ]
          },
          "metadata": {
            "tags": []
          },
          "execution_count": 123
        }
      ]
    },
    {
      "cell_type": "code",
      "metadata": {
        "id": "PrBCl9am0dd6",
        "colab_type": "code",
        "colab": {
          "base_uri": "https://localhost:8080/",
          "height": 230
        },
        "outputId": "36d051f6-2a6e-4e63-c8d5-52bde0f6d607"
      },
      "source": [
        "X_val_permuted[feature].value_counts(normalize=True)"
      ],
      "execution_count": 124,
      "outputs": [
        {
          "output_type": "execute_result",
          "data": {
            "text/plain": [
              "0.000    0.061920\n",
              "1.000    0.053664\n",
              "0.500    0.042312\n",
              "0.333    0.026832\n",
              "0.250    0.014448\n",
              "           ...   \n",
              "0.436    0.001032\n",
              "0.327    0.001032\n",
              "0.053    0.001032\n",
              "0.345    0.001032\n",
              "0.096    0.001032\n",
              "Name: K%, Length: 315, dtype: float64"
            ]
          },
          "metadata": {
            "tags": []
          },
          "execution_count": 124
        }
      ]
    },
    {
      "cell_type": "code",
      "metadata": {
        "id": "aB-KBEDT0g8t",
        "colab_type": "code",
        "colab": {
          "base_uri": "https://localhost:8080/",
          "height": 70
        },
        "outputId": "d2206edf-70f7-48ad-8659-132bde5cb15c"
      },
      "source": [
        "# Get the permutation importance\n",
        "score_permuted = pipeline.score(X_val_permuted, y_val)\n",
        "\n",
        "print(f'Validation Accuracy with {feature}: {score_with}')\n",
        "print(f'Validation Accuracy with {feature} permuted: {score_permuted}')\n",
        "print(f'Permutation Importance: {score_with - score_permuted}')"
      ],
      "execution_count": 125,
      "outputs": [
        {
          "output_type": "stream",
          "text": [
            "Validation Accuracy with K%: 0.7110423116615067\n",
            "Validation Accuracy with K% permuted: 0.7100103199174407\n",
            "Permutation Importance: 0.0010319917440659854\n"
          ],
          "name": "stdout"
        }
      ]
    },
    {
      "cell_type": "code",
      "metadata": {
        "id": "juvmOdCJ0nCm",
        "colab_type": "code",
        "colab": {
          "base_uri": "https://localhost:8080/",
          "height": 70
        },
        "outputId": "be280cba-e99d-440b-acd1-ee303b313f2b"
      },
      "source": [
        "# Rerun w/ different feature\n",
        "feature = 'wRC+'\n",
        "X_val_permuted = X_val.copy()\n",
        "X_val_permuted[feature] = np.random.permutation(X_val[feature])\n",
        "score_permuted = pipeline.score(X_val_permuted, y_val)\n",
        "\n",
        "print(f'Validation Accuracy with {feature}: {score_with}')\n",
        "print(f'Validation Accuracy with {feature} permuted: {score_permuted}')\n",
        "print(f'Permutation Importance: {score_with - score_permuted}')"
      ],
      "execution_count": 126,
      "outputs": [
        {
          "output_type": "stream",
          "text": [
            "Validation Accuracy with wRC+: 0.7110423116615067\n",
            "Validation Accuracy with wRC+ permuted: 0.7100103199174407\n",
            "Permutation Importance: 0.0010319917440659854\n"
          ],
          "name": "stdout"
        }
      ]
    },
    {
      "cell_type": "code",
      "metadata": {
        "id": "mSnc0TEp0vku",
        "colab_type": "code",
        "colab": {
          "base_uri": "https://localhost:8080/",
          "height": 158
        },
        "outputId": "211b1d3d-0322-48ba-8382-0ba483ce045b"
      },
      "source": [
        "### eli5 practice ###\n",
        "\n",
        "transformers = make_pipeline(\n",
        "    ce.OrdinalEncoder(), \n",
        "    SimpleImputer(strategy='median')\n",
        ")\n",
        "\n",
        "X_train_transformed = transformers.fit_transform(X_train)\n",
        "X_val_transformed = transformers.transform(X_val)\n",
        "\n",
        "model = RandomForestClassifier(n_estimators=100, random_state=42, n_jobs=-1)\n",
        "model.fit(X_train_transformed, y_train)"
      ],
      "execution_count": 127,
      "outputs": [
        {
          "output_type": "execute_result",
          "data": {
            "text/plain": [
              "RandomForestClassifier(bootstrap=True, ccp_alpha=0.0, class_weight=None,\n",
              "                       criterion='gini', max_depth=None, max_features='auto',\n",
              "                       max_leaf_nodes=None, max_samples=None,\n",
              "                       min_impurity_decrease=0.0, min_impurity_split=None,\n",
              "                       min_samples_leaf=1, min_samples_split=2,\n",
              "                       min_weight_fraction_leaf=0.0, n_estimators=100,\n",
              "                       n_jobs=-1, oob_score=False, random_state=42, verbose=0,\n",
              "                       warm_start=False)"
            ]
          },
          "metadata": {
            "tags": []
          },
          "execution_count": 127
        }
      ]
    },
    {
      "cell_type": "code",
      "metadata": {
        "id": "dA1Zwo6Y1AbR",
        "colab_type": "code",
        "colab": {
          "base_uri": "https://localhost:8080/",
          "height": 212
        },
        "outputId": "772bb819-0933-4406-aa7a-8f193218d530"
      },
      "source": [
        "!pip install eli5"
      ],
      "execution_count": 128,
      "outputs": [
        {
          "output_type": "stream",
          "text": [
            "Requirement already satisfied: eli5 in /usr/local/lib/python3.6/dist-packages (0.10.1)\n",
            "Requirement already satisfied: scipy in /usr/local/lib/python3.6/dist-packages (from eli5) (1.4.1)\n",
            "Requirement already satisfied: six in /usr/local/lib/python3.6/dist-packages (from eli5) (1.12.0)\n",
            "Requirement already satisfied: graphviz in /usr/local/lib/python3.6/dist-packages (from eli5) (0.10.1)\n",
            "Requirement already satisfied: tabulate>=0.7.7 in /usr/local/lib/python3.6/dist-packages (from eli5) (0.8.7)\n",
            "Requirement already satisfied: numpy>=1.9.0 in /usr/local/lib/python3.6/dist-packages (from eli5) (1.18.2)\n",
            "Requirement already satisfied: jinja2 in /usr/local/lib/python3.6/dist-packages (from eli5) (2.11.2)\n",
            "Requirement already satisfied: scikit-learn>=0.18 in /usr/local/lib/python3.6/dist-packages (from eli5) (0.22.2.post1)\n",
            "Requirement already satisfied: attrs>16.0.0 in /usr/local/lib/python3.6/dist-packages (from eli5) (19.3.0)\n",
            "Requirement already satisfied: MarkupSafe>=0.23 in /usr/local/lib/python3.6/dist-packages (from jinja2->eli5) (1.1.1)\n",
            "Requirement already satisfied: joblib>=0.11 in /usr/local/lib/python3.6/dist-packages (from scikit-learn>=0.18->eli5) (0.14.1)\n"
          ],
          "name": "stdout"
        }
      ]
    },
    {
      "cell_type": "code",
      "metadata": {
        "id": "cCzVieox3ZJL",
        "colab_type": "code",
        "colab": {}
      },
      "source": [
        "import eli5\n",
        "from eli5.sklearn import PermutationImportance"
      ],
      "execution_count": 0,
      "outputs": []
    },
    {
      "cell_type": "code",
      "metadata": {
        "id": "egRVWq_A03Ym",
        "colab_type": "code",
        "colab": {
          "base_uri": "https://localhost:8080/",
          "height": 407
        },
        "outputId": "b501687a-8b40-4b2e-9282-e3cd74892466"
      },
      "source": [
        "permuter = PermutationImportance(\n",
        "    model,\n",
        "    scoring='accuracy',\n",
        "    n_iter=5,\n",
        "    random_state=42\n",
        ")\n",
        "\n",
        "permuter.fit(X_val_transformed, y_val)"
      ],
      "execution_count": 131,
      "outputs": [
        {
          "output_type": "execute_result",
          "data": {
            "text/plain": [
              "PermutationImportance(cv='prefit',\n",
              "                      estimator=RandomForestClassifier(bootstrap=True,\n",
              "                                                       ccp_alpha=0.0,\n",
              "                                                       class_weight=None,\n",
              "                                                       criterion='gini',\n",
              "                                                       max_depth=None,\n",
              "                                                       max_features='auto',\n",
              "                                                       max_leaf_nodes=None,\n",
              "                                                       max_samples=None,\n",
              "                                                       min_impurity_decrease=0.0,\n",
              "                                                       min_impurity_split=None,\n",
              "                                                       min_samples_leaf=1,\n",
              "                                                       min_samples_split=2,\n",
              "                                                       min_weight_fraction_leaf=0.0,\n",
              "                                                       n_estimators=100,\n",
              "                                                       n_jobs=-1,\n",
              "                                                       oob_score=False,\n",
              "                                                       random_state=42,\n",
              "                                                       verbose=0,\n",
              "                                                       warm_start=False),\n",
              "                      n_iter=5, random_state=42, refit=True,\n",
              "                      scoring='accuracy')"
            ]
          },
          "metadata": {
            "tags": []
          },
          "execution_count": 131
        }
      ]
    },
    {
      "cell_type": "code",
      "metadata": {
        "id": "S0tZG_Fz05nz",
        "colab_type": "code",
        "colab": {}
      },
      "source": [
        "feature_names = X_val.columns.tolist()\n",
        "pd.Series(permuter.feature_importances_, feature_names).sort_values()"
      ],
      "execution_count": 0,
      "outputs": []
    },
    {
      "cell_type": "code",
      "metadata": {
        "id": "YEAQocFb1HKE",
        "colab_type": "code",
        "colab": {}
      },
      "source": [
        "# Couldn't get this to work\n",
        "# Error read: 'feature_names has a wrong length: expected=286, got=287'\n",
        "\n",
        "eli5.show_weights(\n",
        "    permuter,\n",
        "    top=None,\n",
        "    feature_names=feature_names\n",
        ")"
      ],
      "execution_count": 0,
      "outputs": []
    },
    {
      "cell_type": "code",
      "metadata": {
        "id": "5BOJsqeK1J76",
        "colab_type": "code",
        "colab": {
          "base_uri": "https://localhost:8080/",
          "height": 550
        },
        "outputId": "abe4d434-a765-49dd-9fab-4da940660acc"
      },
      "source": [
        "### xgboost gradient boosting ###\n",
        "\n",
        "from xgboost import XGBClassifier\n",
        "\n",
        "pipeline = make_pipeline(\n",
        "    ce.OrdinalEncoder(), \n",
        "    XGBClassifier(n_estimators=100, random_state=42, n_jobs=-1)\n",
        ")\n",
        "\n",
        "pipeline.fit(X_train, y_train)"
      ],
      "execution_count": 134,
      "outputs": [
        {
          "output_type": "execute_result",
          "data": {
            "text/plain": [
              "Pipeline(memory=None,\n",
              "         steps=[('ordinalencoder',\n",
              "                 OrdinalEncoder(cols=['Name', 'Team', 'Dol', 'Age Rng'],\n",
              "                                drop_invariant=False, handle_missing='value',\n",
              "                                handle_unknown='value',\n",
              "                                mapping=[{'col': 'Name',\n",
              "                                          'data_type': dtype('O'),\n",
              "                                          'mapping': Mike Trout           1\n",
              "Buster Posey         2\n",
              "Bryce Harper         3\n",
              "Josh Donaldson       4\n",
              "Miguel Cabrera       5\n",
              "                  ... \n",
              "Joe Mather        1607\n",
              "Wilson Valdez     1608\n",
              "Josh Vitters      1609\n",
              "Rod Barajas       1610\n",
              "NaN                 -2\n",
              "Le...\n",
              "                 XGBClassifier(base_score=0.5, booster='gbtree',\n",
              "                               colsample_bylevel=1, colsample_bynode=1,\n",
              "                               colsample_bytree=1, gamma=0, learning_rate=0.1,\n",
              "                               max_delta_step=0, max_depth=3,\n",
              "                               min_child_weight=1, missing=None,\n",
              "                               n_estimators=100, n_jobs=-1, nthread=None,\n",
              "                               objective='multi:softprob', random_state=42,\n",
              "                               reg_alpha=0, reg_lambda=1, scale_pos_weight=1,\n",
              "                               seed=None, silent=None, subsample=1,\n",
              "                               verbosity=1))],\n",
              "         verbose=False)"
            ]
          },
          "metadata": {
            "tags": []
          },
          "execution_count": 134
        }
      ]
    },
    {
      "cell_type": "code",
      "metadata": {
        "id": "rL7CYRC11Qq-",
        "colab_type": "code",
        "colab": {
          "base_uri": "https://localhost:8080/",
          "height": 34
        },
        "outputId": "08683119-39f2-42cd-a640-c7cd30630cc1"
      },
      "source": [
        "from sklearn.metrics import accuracy_score\n",
        "y_pred = pipeline.predict(X_val)\n",
        "print('Validation Accuracy', accuracy_score(y_val, y_pred))"
      ],
      "execution_count": 135,
      "outputs": [
        {
          "output_type": "stream",
          "text": [
            "Validation Accuracy 0.9876160990712074\n"
          ],
          "name": "stdout"
        }
      ]
    },
    {
      "cell_type": "code",
      "metadata": {
        "id": "EXftWoqN1Ssp",
        "colab_type": "code",
        "colab": {
          "base_uri": "https://localhost:8080/",
          "height": 1000
        },
        "outputId": "2b95f84c-504c-4f46-b200-13d391afbe6f"
      },
      "source": [
        "encoder = ce.OrdinalEncoder()\n",
        "X_train_encoded = encoder.fit_transform(X_train)\n",
        "X_val_encoded = encoder.transform(X_val)\n",
        "\n",
        "model = XGBClassifier(\n",
        "    n_estimators = 1000,\n",
        "    max_depth=7,\n",
        "    learning_rate=0.5,\n",
        "    n_jobs=-1\n",
        ")\n",
        "\n",
        "eval_set = [(X_train_encoded, y_train), \n",
        "            (X_val_encoded, y_val)]\n",
        "\n",
        "model.fit(X_train_encoded, y_train, \n",
        "          eval_set=eval_set, \n",
        "          eval_metric='merror', \n",
        "          early_stopping_rounds=50)"
      ],
      "execution_count": 137,
      "outputs": [
        {
          "output_type": "stream",
          "text": [
            "[0]\tvalidation_0-merror:0.020157\tvalidation_1-merror:0.035088\n",
            "Multiple eval metrics have been passed: 'validation_1-merror' will be used for early stopping.\n",
            "\n",
            "Will train until validation_1-merror hasn't improved in 50 rounds.\n",
            "[1]\tvalidation_0-merror:0.009948\tvalidation_1-merror:0.029928\n",
            "[2]\tvalidation_0-merror:0.003141\tvalidation_1-merror:0.026832\n",
            "[3]\tvalidation_0-merror:0.001047\tvalidation_1-merror:0.024768\n",
            "[4]\tvalidation_0-merror:0.001047\tvalidation_1-merror:0.018576\n",
            "[5]\tvalidation_0-merror:0.001047\tvalidation_1-merror:0.017544\n",
            "[6]\tvalidation_0-merror:0.001047\tvalidation_1-merror:0.017544\n",
            "[7]\tvalidation_0-merror:0.000785\tvalidation_1-merror:0.017544\n",
            "[8]\tvalidation_0-merror:0.000785\tvalidation_1-merror:0.017544\n",
            "[9]\tvalidation_0-merror:0.000262\tvalidation_1-merror:0.017544\n",
            "[10]\tvalidation_0-merror:0\tvalidation_1-merror:0.017544\n",
            "[11]\tvalidation_0-merror:0\tvalidation_1-merror:0.017544\n",
            "[12]\tvalidation_0-merror:0\tvalidation_1-merror:0.017544\n",
            "[13]\tvalidation_0-merror:0\tvalidation_1-merror:0.018576\n",
            "[14]\tvalidation_0-merror:0\tvalidation_1-merror:0.018576\n",
            "[15]\tvalidation_0-merror:0\tvalidation_1-merror:0.018576\n",
            "[16]\tvalidation_0-merror:0\tvalidation_1-merror:0.018576\n",
            "[17]\tvalidation_0-merror:0\tvalidation_1-merror:0.019608\n",
            "[18]\tvalidation_0-merror:0\tvalidation_1-merror:0.019608\n",
            "[19]\tvalidation_0-merror:0\tvalidation_1-merror:0.019608\n",
            "[20]\tvalidation_0-merror:0\tvalidation_1-merror:0.019608\n",
            "[21]\tvalidation_0-merror:0\tvalidation_1-merror:0.019608\n",
            "[22]\tvalidation_0-merror:0\tvalidation_1-merror:0.019608\n",
            "[23]\tvalidation_0-merror:0\tvalidation_1-merror:0.019608\n",
            "[24]\tvalidation_0-merror:0\tvalidation_1-merror:0.019608\n",
            "[25]\tvalidation_0-merror:0\tvalidation_1-merror:0.019608\n",
            "[26]\tvalidation_0-merror:0\tvalidation_1-merror:0.019608\n",
            "[27]\tvalidation_0-merror:0\tvalidation_1-merror:0.019608\n",
            "[28]\tvalidation_0-merror:0\tvalidation_1-merror:0.019608\n",
            "[29]\tvalidation_0-merror:0\tvalidation_1-merror:0.019608\n",
            "[30]\tvalidation_0-merror:0\tvalidation_1-merror:0.019608\n",
            "[31]\tvalidation_0-merror:0\tvalidation_1-merror:0.019608\n",
            "[32]\tvalidation_0-merror:0\tvalidation_1-merror:0.019608\n",
            "[33]\tvalidation_0-merror:0\tvalidation_1-merror:0.019608\n",
            "[34]\tvalidation_0-merror:0\tvalidation_1-merror:0.019608\n",
            "[35]\tvalidation_0-merror:0\tvalidation_1-merror:0.019608\n",
            "[36]\tvalidation_0-merror:0\tvalidation_1-merror:0.019608\n",
            "[37]\tvalidation_0-merror:0\tvalidation_1-merror:0.019608\n",
            "[38]\tvalidation_0-merror:0\tvalidation_1-merror:0.019608\n",
            "[39]\tvalidation_0-merror:0\tvalidation_1-merror:0.019608\n",
            "[40]\tvalidation_0-merror:0\tvalidation_1-merror:0.019608\n",
            "[41]\tvalidation_0-merror:0\tvalidation_1-merror:0.019608\n",
            "[42]\tvalidation_0-merror:0\tvalidation_1-merror:0.019608\n",
            "[43]\tvalidation_0-merror:0\tvalidation_1-merror:0.019608\n",
            "[44]\tvalidation_0-merror:0\tvalidation_1-merror:0.019608\n",
            "[45]\tvalidation_0-merror:0\tvalidation_1-merror:0.019608\n",
            "[46]\tvalidation_0-merror:0\tvalidation_1-merror:0.019608\n",
            "[47]\tvalidation_0-merror:0\tvalidation_1-merror:0.019608\n",
            "[48]\tvalidation_0-merror:0\tvalidation_1-merror:0.019608\n",
            "[49]\tvalidation_0-merror:0\tvalidation_1-merror:0.019608\n",
            "[50]\tvalidation_0-merror:0\tvalidation_1-merror:0.019608\n",
            "[51]\tvalidation_0-merror:0\tvalidation_1-merror:0.019608\n",
            "[52]\tvalidation_0-merror:0\tvalidation_1-merror:0.019608\n",
            "[53]\tvalidation_0-merror:0\tvalidation_1-merror:0.019608\n",
            "[54]\tvalidation_0-merror:0\tvalidation_1-merror:0.019608\n",
            "[55]\tvalidation_0-merror:0\tvalidation_1-merror:0.019608\n",
            "Stopping. Best iteration:\n",
            "[5]\tvalidation_0-merror:0.001047\tvalidation_1-merror:0.017544\n",
            "\n"
          ],
          "name": "stdout"
        },
        {
          "output_type": "execute_result",
          "data": {
            "text/plain": [
              "XGBClassifier(base_score=0.5, booster='gbtree', colsample_bylevel=1,\n",
              "              colsample_bynode=1, colsample_bytree=1, gamma=0,\n",
              "              learning_rate=0.5, max_delta_step=0, max_depth=7,\n",
              "              min_child_weight=1, missing=None, n_estimators=1000, n_jobs=-1,\n",
              "              nthread=None, objective='multi:softprob', random_state=0,\n",
              "              reg_alpha=0, reg_lambda=1, scale_pos_weight=1, seed=None,\n",
              "              silent=None, subsample=1, verbosity=1)"
            ]
          },
          "metadata": {
            "tags": []
          },
          "execution_count": 137
        }
      ]
    }
  ]
}
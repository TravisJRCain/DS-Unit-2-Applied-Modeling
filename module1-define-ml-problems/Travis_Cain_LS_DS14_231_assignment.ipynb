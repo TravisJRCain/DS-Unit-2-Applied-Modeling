{
  "nbformat": 4,
  "nbformat_minor": 0,
  "metadata": {
    "kernelspec": {
      "display_name": "Python 3",
      "language": "python",
      "name": "python3"
    },
    "language_info": {
      "codemirror_mode": {
        "name": "ipython",
        "version": 3
      },
      "file_extension": ".py",
      "mimetype": "text/x-python",
      "name": "python",
      "nbconvert_exporter": "python",
      "pygments_lexer": "ipython3",
      "version": "3.7.6"
    },
    "colab": {
      "name": "Travis_Cain_LS_DS14_231_assignment.ipynb",
      "provenance": [],
      "include_colab_link": true
    }
  },
  "cells": [
    {
      "cell_type": "markdown",
      "metadata": {
        "id": "view-in-github",
        "colab_type": "text"
      },
      "source": [
        "<a href=\"https://colab.research.google.com/github/TravisJRCain/DS-Unit-2-Applied-Modeling/blob/master/module1-define-ml-problems/Travis_Cain_LS_DS14_231_assignment.ipynb\" target=\"_parent\"><img src=\"https://colab.research.google.com/assets/colab-badge.svg\" alt=\"Open In Colab\"/></a>"
      ]
    },
    {
      "cell_type": "markdown",
      "metadata": {
        "colab_type": "text",
        "id": "nCc3XZEyG3XV"
      },
      "source": [
        "Lambda School Data Science\n",
        "\n",
        "*Unit 2, Sprint 3, Module 1*\n",
        "\n",
        "---\n",
        "\n",
        "\n",
        "# Define ML problems\n",
        "\n",
        "You will use your portfolio project dataset for all assignments this sprint.\n",
        "\n",
        "## Assignment\n",
        "\n",
        "Complete these tasks for your project, and document your decisions.\n",
        "\n",
        "- [ ] Choose your target. Which column in your tabular dataset will you predict?\n",
        "- [ ] Is your problem regression or classification?\n",
        "- [ ] How is your target distributed?\n",
        "    - Classification: How many classes? Are the classes imbalanced?\n",
        "    - Regression: Is the target right-skewed? If so, you may want to log transform the target.\n",
        "- [ ] Choose your evaluation metric(s).\n",
        "    - Classification: Is your majority class frequency >= 50% and < 70% ? If so, you can just use accuracy if you want. Outside that range, accuracy could be misleading. What evaluation metric will you choose, in addition to or instead of accuracy?\n",
        "    - Regression: Will you use mean absolute error, root mean squared error, R^2, or other regression metrics?\n",
        "- [ ] Choose which observations you will use to train, validate, and test your model.\n",
        "    - Are some observations outliers? Will you exclude them?\n",
        "    - Will you do a random split or a time-based split?\n",
        "- [ ] Begin to clean and explore your data.\n",
        "- [ ] Begin to choose which features, if any, to exclude. Would some features \"leak\" future information?\n",
        "\n",
        "If you haven't found a dataset yet, do that today. [Review requirements for your portfolio project](https://lambdaschool.github.io/ds/unit2) and choose your dataset.\n",
        "\n",
        "Some students worry, ***what if my model isn't “good”?*** Then, [produce a detailed tribute to your wrongness. That is science!](https://twitter.com/nathanwpyle/status/1176860147223867393)"
      ]
    },
    {
      "cell_type": "code",
      "metadata": {
        "id": "Jw77EBXLCdC1",
        "colab_type": "code",
        "colab": {
          "base_uri": "https://localhost:8080/",
          "height": 390
        },
        "outputId": "37365477-533b-4a6d-daf9-35124b51a264"
      },
      "source": [
        "pip install pybaseball"
      ],
      "execution_count": 2,
      "outputs": [
        {
          "output_type": "stream",
          "text": [
            "Collecting pybaseball\n",
            "  Downloading https://files.pythonhosted.org/packages/63/00/31891da5b632821864411d5b3327df137e93d0bce118d94e9d0f6baa5c00/pybaseball-1.0.8.tar.gz\n",
            "Requirement already satisfied: numpy>=1.13.0 in /usr/local/lib/python3.6/dist-packages (from pybaseball) (1.18.2)\n",
            "Requirement already satisfied: pandas>=0.20.2 in /usr/local/lib/python3.6/dist-packages (from pybaseball) (1.0.3)\n",
            "Requirement already satisfied: beautifulsoup4>=4.4.0 in /usr/local/lib/python3.6/dist-packages (from pybaseball) (4.6.3)\n",
            "Requirement already satisfied: requests>=2.18.1 in /usr/local/lib/python3.6/dist-packages (from pybaseball) (2.21.0)\n",
            "Requirement already satisfied: lxml>=4.2.1 in /usr/local/lib/python3.6/dist-packages (from pybaseball) (4.2.6)\n",
            "Requirement already satisfied: pytz>=2017.2 in /usr/local/lib/python3.6/dist-packages (from pandas>=0.20.2->pybaseball) (2018.9)\n",
            "Requirement already satisfied: python-dateutil>=2.6.1 in /usr/local/lib/python3.6/dist-packages (from pandas>=0.20.2->pybaseball) (2.8.1)\n",
            "Requirement already satisfied: idna<2.9,>=2.5 in /usr/local/lib/python3.6/dist-packages (from requests>=2.18.1->pybaseball) (2.8)\n",
            "Requirement already satisfied: urllib3<1.25,>=1.21.1 in /usr/local/lib/python3.6/dist-packages (from requests>=2.18.1->pybaseball) (1.24.3)\n",
            "Requirement already satisfied: chardet<3.1.0,>=3.0.2 in /usr/local/lib/python3.6/dist-packages (from requests>=2.18.1->pybaseball) (3.0.4)\n",
            "Requirement already satisfied: certifi>=2017.4.17 in /usr/local/lib/python3.6/dist-packages (from requests>=2.18.1->pybaseball) (2020.4.5.1)\n",
            "Requirement already satisfied: six>=1.5 in /usr/local/lib/python3.6/dist-packages (from python-dateutil>=2.6.1->pandas>=0.20.2->pybaseball) (1.12.0)\n",
            "Building wheels for collected packages: pybaseball\n",
            "  Building wheel for pybaseball (setup.py) ... \u001b[?25l\u001b[?25hdone\n",
            "  Created wheel for pybaseball: filename=pybaseball-1.0.8-cp36-none-any.whl size=36008 sha256=77bac194d920e903120c1f7fefe954f13a93413e32e7804b3049000cb6bbec04\n",
            "  Stored in directory: /root/.cache/pip/wheels/d5/7b/fb/b1f8a38eb135628a747627977fd18d13ce2c210cffa08ee5a5\n",
            "Successfully built pybaseball\n",
            "Installing collected packages: pybaseball\n",
            "Successfully installed pybaseball-1.0.8\n"
          ],
          "name": "stdout"
        }
      ]
    },
    {
      "cell_type": "code",
      "metadata": {
        "id": "75-nobXTCdm4",
        "colab_type": "code",
        "colab": {
          "base_uri": "https://localhost:8080/",
          "height": 72
        },
        "outputId": "c79020a1-2b40-4157-f202-f717c21614e3"
      },
      "source": [
        "from pybaseball import statcast\n",
        "import pandas as pd\n",
        "import numpy as np\n",
        "import matplotlib.pyplot as plt\n",
        "import seaborn as sns\n",
        "import warnings\n",
        "import sys\n",
        "warnings.filterwarnings('ignore')\n",
        "%matplotlib inline"
      ],
      "execution_count": 3,
      "outputs": [
        {
          "output_type": "stream",
          "text": [
            "/usr/local/lib/python3.6/dist-packages/statsmodels/tools/_testing.py:19: FutureWarning: pandas.util.testing is deprecated. Use the functions in the public API at pandas.testing instead.\n",
            "  import pandas.util.testing as tm\n"
          ],
          "name": "stderr"
        }
      ]
    },
    {
      "cell_type": "code",
      "metadata": {
        "id": "IMWTId-jDNHQ",
        "colab_type": "code",
        "colab": {}
      },
      "source": [
        "from pybaseball import pitching_stats\n",
        "import matplotlib.pyplot as plt\n",
        "%matplotlib inline"
      ],
      "execution_count": 0,
      "outputs": []
    },
    {
      "cell_type": "code",
      "metadata": {
        "id": "zv8ZNs1JCk5K",
        "colab_type": "code",
        "colab": {
          "base_uri": "https://localhost:8080/",
          "height": 363
        },
        "outputId": "a70a3dc8-4a9d-4d82-8662-76a0b439e99e"
      },
      "source": [
        "df = pitching_stats(2012, 2018)\n",
        "df.head()"
      ],
      "execution_count": 5,
      "outputs": [
        {
          "output_type": "execute_result",
          "data": {
            "text/html": [
              "<div>\n",
              "<style scoped>\n",
              "    .dataframe tbody tr th:only-of-type {\n",
              "        vertical-align: middle;\n",
              "    }\n",
              "\n",
              "    .dataframe tbody tr th {\n",
              "        vertical-align: top;\n",
              "    }\n",
              "\n",
              "    .dataframe thead th {\n",
              "        text-align: right;\n",
              "    }\n",
              "</style>\n",
              "<table border=\"1\" class=\"dataframe\">\n",
              "  <thead>\n",
              "    <tr style=\"text-align: right;\">\n",
              "      <th></th>\n",
              "      <th>Season</th>\n",
              "      <th>Name</th>\n",
              "      <th>Team</th>\n",
              "      <th>Age</th>\n",
              "      <th>W</th>\n",
              "      <th>L</th>\n",
              "      <th>ERA</th>\n",
              "      <th>WAR</th>\n",
              "      <th>G</th>\n",
              "      <th>GS</th>\n",
              "      <th>CG</th>\n",
              "      <th>ShO</th>\n",
              "      <th>SV</th>\n",
              "      <th>BS</th>\n",
              "      <th>IP</th>\n",
              "      <th>TBF</th>\n",
              "      <th>H</th>\n",
              "      <th>R</th>\n",
              "      <th>ER</th>\n",
              "      <th>HR</th>\n",
              "      <th>BB</th>\n",
              "      <th>IBB</th>\n",
              "      <th>HBP</th>\n",
              "      <th>WP</th>\n",
              "      <th>BK</th>\n",
              "      <th>SO</th>\n",
              "      <th>GB</th>\n",
              "      <th>FB</th>\n",
              "      <th>LD</th>\n",
              "      <th>IFFB</th>\n",
              "      <th>Balls</th>\n",
              "      <th>Strikes</th>\n",
              "      <th>Pitches</th>\n",
              "      <th>RS</th>\n",
              "      <th>IFH</th>\n",
              "      <th>BU</th>\n",
              "      <th>BUH</th>\n",
              "      <th>K/9</th>\n",
              "      <th>BB/9</th>\n",
              "      <th>K/BB</th>\n",
              "      <th>...</th>\n",
              "      <th>CS-Z (pi)</th>\n",
              "      <th>CU-Z (pi)</th>\n",
              "      <th>FA-Z (pi)</th>\n",
              "      <th>FC-Z (pi)</th>\n",
              "      <th>FS-Z (pi)</th>\n",
              "      <th>KN-Z (pi)</th>\n",
              "      <th>SB-Z (pi)</th>\n",
              "      <th>SI-Z (pi)</th>\n",
              "      <th>SL-Z (pi)</th>\n",
              "      <th>XX-Z (pi)</th>\n",
              "      <th>wCH (pi)</th>\n",
              "      <th>wCS (pi)</th>\n",
              "      <th>wCU (pi)</th>\n",
              "      <th>wFA (pi)</th>\n",
              "      <th>wFC (pi)</th>\n",
              "      <th>wFS (pi)</th>\n",
              "      <th>wKN (pi)</th>\n",
              "      <th>wSB (pi)</th>\n",
              "      <th>wSI (pi)</th>\n",
              "      <th>wSL (pi)</th>\n",
              "      <th>wXX (pi)</th>\n",
              "      <th>wCH/C (pi)</th>\n",
              "      <th>wCS/C (pi)</th>\n",
              "      <th>wCU/C (pi)</th>\n",
              "      <th>wFA/C (pi)</th>\n",
              "      <th>wFC/C (pi)</th>\n",
              "      <th>wFS/C (pi)</th>\n",
              "      <th>wKN/C (pi)</th>\n",
              "      <th>wSB/C (pi)</th>\n",
              "      <th>wSI/C (pi)</th>\n",
              "      <th>wSL/C (pi)</th>\n",
              "      <th>wXX/C (pi)</th>\n",
              "      <th>O-Swing% (pi)</th>\n",
              "      <th>Z-Swing% (pi)</th>\n",
              "      <th>Swing% (pi)</th>\n",
              "      <th>O-Contact% (pi)</th>\n",
              "      <th>Z-Contact% (pi)</th>\n",
              "      <th>Contact% (pi)</th>\n",
              "      <th>Zone% (pi)</th>\n",
              "      <th>Pace (pi)</th>\n",
              "    </tr>\n",
              "  </thead>\n",
              "  <tbody>\n",
              "    <tr>\n",
              "      <th>297</th>\n",
              "      <td>2018.0</td>\n",
              "      <td>Jacob deGrom</td>\n",
              "      <td>Mets</td>\n",
              "      <td>30.0</td>\n",
              "      <td>10.0</td>\n",
              "      <td>9.0</td>\n",
              "      <td>1.70</td>\n",
              "      <td>9.0</td>\n",
              "      <td>32.0</td>\n",
              "      <td>32.0</td>\n",
              "      <td>1.0</td>\n",
              "      <td>0.0</td>\n",
              "      <td>0.0</td>\n",
              "      <td>0.0</td>\n",
              "      <td>217.0</td>\n",
              "      <td>835.0</td>\n",
              "      <td>152.0</td>\n",
              "      <td>48.0</td>\n",
              "      <td>41.0</td>\n",
              "      <td>10.0</td>\n",
              "      <td>46.0</td>\n",
              "      <td>3.0</td>\n",
              "      <td>5.0</td>\n",
              "      <td>2.0</td>\n",
              "      <td>0.0</td>\n",
              "      <td>269.0</td>\n",
              "      <td>235.0</td>\n",
              "      <td>160.0</td>\n",
              "      <td>111.0</td>\n",
              "      <td>26.0</td>\n",
              "      <td>999.0</td>\n",
              "      <td>2213.0</td>\n",
              "      <td>3212.0</td>\n",
              "      <td>86.0</td>\n",
              "      <td>16.0</td>\n",
              "      <td>9.0</td>\n",
              "      <td>2.0</td>\n",
              "      <td>11.16</td>\n",
              "      <td>1.91</td>\n",
              "      <td>5.85</td>\n",
              "      <td>...</td>\n",
              "      <td>NaN</td>\n",
              "      <td>-2.7</td>\n",
              "      <td>9.4</td>\n",
              "      <td>NaN</td>\n",
              "      <td>NaN</td>\n",
              "      <td>NaN</td>\n",
              "      <td>NaN</td>\n",
              "      <td>7.0</td>\n",
              "      <td>3.1</td>\n",
              "      <td>NaN</td>\n",
              "      <td>13.0</td>\n",
              "      <td>NaN</td>\n",
              "      <td>4.4</td>\n",
              "      <td>23.6</td>\n",
              "      <td>NaN</td>\n",
              "      <td>NaN</td>\n",
              "      <td>NaN</td>\n",
              "      <td>NaN</td>\n",
              "      <td>0.9</td>\n",
              "      <td>17.2</td>\n",
              "      <td>NaN</td>\n",
              "      <td>2.52</td>\n",
              "      <td>NaN</td>\n",
              "      <td>1.72</td>\n",
              "      <td>1.73</td>\n",
              "      <td>NaN</td>\n",
              "      <td>NaN</td>\n",
              "      <td>NaN</td>\n",
              "      <td>NaN</td>\n",
              "      <td>0.30</td>\n",
              "      <td>2.25</td>\n",
              "      <td>NaN</td>\n",
              "      <td>0.367</td>\n",
              "      <td>0.661</td>\n",
              "      <td>0.518</td>\n",
              "      <td>0.524</td>\n",
              "      <td>0.804</td>\n",
              "      <td>0.708</td>\n",
              "      <td>0.513</td>\n",
              "      <td>21.9</td>\n",
              "    </tr>\n",
              "    <tr>\n",
              "      <th>445</th>\n",
              "      <td>2015.0</td>\n",
              "      <td>Clayton Kershaw</td>\n",
              "      <td>Dodgers</td>\n",
              "      <td>27.0</td>\n",
              "      <td>16.0</td>\n",
              "      <td>7.0</td>\n",
              "      <td>2.13</td>\n",
              "      <td>8.6</td>\n",
              "      <td>33.0</td>\n",
              "      <td>33.0</td>\n",
              "      <td>4.0</td>\n",
              "      <td>3.0</td>\n",
              "      <td>0.0</td>\n",
              "      <td>0.0</td>\n",
              "      <td>232.2</td>\n",
              "      <td>890.0</td>\n",
              "      <td>163.0</td>\n",
              "      <td>62.0</td>\n",
              "      <td>55.0</td>\n",
              "      <td>15.0</td>\n",
              "      <td>42.0</td>\n",
              "      <td>1.0</td>\n",
              "      <td>5.0</td>\n",
              "      <td>9.0</td>\n",
              "      <td>3.0</td>\n",
              "      <td>301.0</td>\n",
              "      <td>262.0</td>\n",
              "      <td>148.0</td>\n",
              "      <td>114.0</td>\n",
              "      <td>14.0</td>\n",
              "      <td>1089.0</td>\n",
              "      <td>2303.0</td>\n",
              "      <td>3392.0</td>\n",
              "      <td>115.0</td>\n",
              "      <td>16.0</td>\n",
              "      <td>18.0</td>\n",
              "      <td>4.0</td>\n",
              "      <td>11.64</td>\n",
              "      <td>1.62</td>\n",
              "      <td>7.17</td>\n",
              "      <td>...</td>\n",
              "      <td>NaN</td>\n",
              "      <td>-9.6</td>\n",
              "      <td>11.7</td>\n",
              "      <td>NaN</td>\n",
              "      <td>NaN</td>\n",
              "      <td>NaN</td>\n",
              "      <td>NaN</td>\n",
              "      <td>NaN</td>\n",
              "      <td>3.9</td>\n",
              "      <td>3.4</td>\n",
              "      <td>-1.2</td>\n",
              "      <td>NaN</td>\n",
              "      <td>17.3</td>\n",
              "      <td>26.3</td>\n",
              "      <td>NaN</td>\n",
              "      <td>NaN</td>\n",
              "      <td>NaN</td>\n",
              "      <td>NaN</td>\n",
              "      <td>NaN</td>\n",
              "      <td>16.5</td>\n",
              "      <td>0.2</td>\n",
              "      <td>-7.73</td>\n",
              "      <td>NaN</td>\n",
              "      <td>2.81</td>\n",
              "      <td>1.45</td>\n",
              "      <td>NaN</td>\n",
              "      <td>NaN</td>\n",
              "      <td>NaN</td>\n",
              "      <td>NaN</td>\n",
              "      <td>NaN</td>\n",
              "      <td>1.76</td>\n",
              "      <td>22.85</td>\n",
              "      <td>0.365</td>\n",
              "      <td>0.665</td>\n",
              "      <td>0.511</td>\n",
              "      <td>0.478</td>\n",
              "      <td>0.811</td>\n",
              "      <td>0.689</td>\n",
              "      <td>0.487</td>\n",
              "      <td>23.4</td>\n",
              "    </tr>\n",
              "    <tr>\n",
              "      <th>315</th>\n",
              "      <td>2014.0</td>\n",
              "      <td>Clayton Kershaw</td>\n",
              "      <td>Dodgers</td>\n",
              "      <td>26.0</td>\n",
              "      <td>21.0</td>\n",
              "      <td>3.0</td>\n",
              "      <td>1.77</td>\n",
              "      <td>7.9</td>\n",
              "      <td>27.0</td>\n",
              "      <td>27.0</td>\n",
              "      <td>6.0</td>\n",
              "      <td>2.0</td>\n",
              "      <td>0.0</td>\n",
              "      <td>0.0</td>\n",
              "      <td>198.1</td>\n",
              "      <td>749.0</td>\n",
              "      <td>139.0</td>\n",
              "      <td>42.0</td>\n",
              "      <td>39.0</td>\n",
              "      <td>9.0</td>\n",
              "      <td>31.0</td>\n",
              "      <td>0.0</td>\n",
              "      <td>2.0</td>\n",
              "      <td>7.0</td>\n",
              "      <td>2.0</td>\n",
              "      <td>239.0</td>\n",
              "      <td>243.0</td>\n",
              "      <td>137.0</td>\n",
              "      <td>89.0</td>\n",
              "      <td>19.0</td>\n",
              "      <td>835.0</td>\n",
              "      <td>1887.0</td>\n",
              "      <td>2722.0</td>\n",
              "      <td>124.0</td>\n",
              "      <td>12.0</td>\n",
              "      <td>8.0</td>\n",
              "      <td>1.0</td>\n",
              "      <td>10.85</td>\n",
              "      <td>1.41</td>\n",
              "      <td>7.71</td>\n",
              "      <td>...</td>\n",
              "      <td>-8.6</td>\n",
              "      <td>-8.8</td>\n",
              "      <td>11.5</td>\n",
              "      <td>NaN</td>\n",
              "      <td>NaN</td>\n",
              "      <td>NaN</td>\n",
              "      <td>NaN</td>\n",
              "      <td>9.9</td>\n",
              "      <td>4.4</td>\n",
              "      <td>NaN</td>\n",
              "      <td>-1.9</td>\n",
              "      <td>0.1</td>\n",
              "      <td>7.9</td>\n",
              "      <td>19.9</td>\n",
              "      <td>NaN</td>\n",
              "      <td>NaN</td>\n",
              "      <td>NaN</td>\n",
              "      <td>NaN</td>\n",
              "      <td>0.6</td>\n",
              "      <td>19.9</td>\n",
              "      <td>NaN</td>\n",
              "      <td>-6.39</td>\n",
              "      <td>5.4</td>\n",
              "      <td>2.11</td>\n",
              "      <td>1.38</td>\n",
              "      <td>NaN</td>\n",
              "      <td>NaN</td>\n",
              "      <td>NaN</td>\n",
              "      <td>NaN</td>\n",
              "      <td>9.27</td>\n",
              "      <td>2.62</td>\n",
              "      <td>NaN</td>\n",
              "      <td>0.371</td>\n",
              "      <td>0.670</td>\n",
              "      <td>0.525</td>\n",
              "      <td>0.536</td>\n",
              "      <td>0.831</td>\n",
              "      <td>0.730</td>\n",
              "      <td>0.515</td>\n",
              "      <td>23.7</td>\n",
              "    </tr>\n",
              "    <tr>\n",
              "      <th>1009</th>\n",
              "      <td>2017.0</td>\n",
              "      <td>Chris Sale</td>\n",
              "      <td>Red Sox</td>\n",
              "      <td>28.0</td>\n",
              "      <td>17.0</td>\n",
              "      <td>8.0</td>\n",
              "      <td>2.90</td>\n",
              "      <td>7.6</td>\n",
              "      <td>32.0</td>\n",
              "      <td>32.0</td>\n",
              "      <td>1.0</td>\n",
              "      <td>0.0</td>\n",
              "      <td>0.0</td>\n",
              "      <td>0.0</td>\n",
              "      <td>214.1</td>\n",
              "      <td>851.0</td>\n",
              "      <td>165.0</td>\n",
              "      <td>73.0</td>\n",
              "      <td>69.0</td>\n",
              "      <td>24.0</td>\n",
              "      <td>43.0</td>\n",
              "      <td>0.0</td>\n",
              "      <td>8.0</td>\n",
              "      <td>3.0</td>\n",
              "      <td>0.0</td>\n",
              "      <td>308.0</td>\n",
              "      <td>188.0</td>\n",
              "      <td>199.0</td>\n",
              "      <td>99.0</td>\n",
              "      <td>21.0</td>\n",
              "      <td>1085.0</td>\n",
              "      <td>2343.0</td>\n",
              "      <td>3428.0</td>\n",
              "      <td>119.0</td>\n",
              "      <td>16.0</td>\n",
              "      <td>6.0</td>\n",
              "      <td>1.0</td>\n",
              "      <td>12.93</td>\n",
              "      <td>1.81</td>\n",
              "      <td>7.16</td>\n",
              "      <td>...</td>\n",
              "      <td>NaN</td>\n",
              "      <td>NaN</td>\n",
              "      <td>7.3</td>\n",
              "      <td>NaN</td>\n",
              "      <td>NaN</td>\n",
              "      <td>NaN</td>\n",
              "      <td>NaN</td>\n",
              "      <td>3.3</td>\n",
              "      <td>-1.8</td>\n",
              "      <td>NaN</td>\n",
              "      <td>4.5</td>\n",
              "      <td>NaN</td>\n",
              "      <td>NaN</td>\n",
              "      <td>26.3</td>\n",
              "      <td>NaN</td>\n",
              "      <td>NaN</td>\n",
              "      <td>NaN</td>\n",
              "      <td>NaN</td>\n",
              "      <td>5.6</td>\n",
              "      <td>7.6</td>\n",
              "      <td>NaN</td>\n",
              "      <td>0.79</td>\n",
              "      <td>NaN</td>\n",
              "      <td>NaN</td>\n",
              "      <td>2.06</td>\n",
              "      <td>NaN</td>\n",
              "      <td>NaN</td>\n",
              "      <td>NaN</td>\n",
              "      <td>NaN</td>\n",
              "      <td>1.24</td>\n",
              "      <td>0.67</td>\n",
              "      <td>NaN</td>\n",
              "      <td>0.373</td>\n",
              "      <td>0.619</td>\n",
              "      <td>0.499</td>\n",
              "      <td>0.540</td>\n",
              "      <td>0.798</td>\n",
              "      <td>0.704</td>\n",
              "      <td>0.513</td>\n",
              "      <td>20.9</td>\n",
              "    </tr>\n",
              "    <tr>\n",
              "      <th>679</th>\n",
              "      <td>2018.0</td>\n",
              "      <td>Max Scherzer</td>\n",
              "      <td>Nationals</td>\n",
              "      <td>33.0</td>\n",
              "      <td>18.0</td>\n",
              "      <td>7.0</td>\n",
              "      <td>2.53</td>\n",
              "      <td>7.5</td>\n",
              "      <td>33.0</td>\n",
              "      <td>33.0</td>\n",
              "      <td>2.0</td>\n",
              "      <td>1.0</td>\n",
              "      <td>0.0</td>\n",
              "      <td>0.0</td>\n",
              "      <td>220.2</td>\n",
              "      <td>866.0</td>\n",
              "      <td>150.0</td>\n",
              "      <td>66.0</td>\n",
              "      <td>62.0</td>\n",
              "      <td>23.0</td>\n",
              "      <td>51.0</td>\n",
              "      <td>4.0</td>\n",
              "      <td>12.0</td>\n",
              "      <td>4.0</td>\n",
              "      <td>1.0</td>\n",
              "      <td>300.0</td>\n",
              "      <td>170.0</td>\n",
              "      <td>236.0</td>\n",
              "      <td>90.0</td>\n",
              "      <td>38.0</td>\n",
              "      <td>1087.0</td>\n",
              "      <td>2406.0</td>\n",
              "      <td>3493.0</td>\n",
              "      <td>139.0</td>\n",
              "      <td>10.0</td>\n",
              "      <td>7.0</td>\n",
              "      <td>1.0</td>\n",
              "      <td>12.24</td>\n",
              "      <td>2.08</td>\n",
              "      <td>5.88</td>\n",
              "      <td>...</td>\n",
              "      <td>NaN</td>\n",
              "      <td>-4.0</td>\n",
              "      <td>7.9</td>\n",
              "      <td>4.0</td>\n",
              "      <td>NaN</td>\n",
              "      <td>NaN</td>\n",
              "      <td>NaN</td>\n",
              "      <td>NaN</td>\n",
              "      <td>0.2</td>\n",
              "      <td>NaN</td>\n",
              "      <td>9.6</td>\n",
              "      <td>NaN</td>\n",
              "      <td>-3.9</td>\n",
              "      <td>30.9</td>\n",
              "      <td>0.4</td>\n",
              "      <td>NaN</td>\n",
              "      <td>NaN</td>\n",
              "      <td>NaN</td>\n",
              "      <td>NaN</td>\n",
              "      <td>10.3</td>\n",
              "      <td>NaN</td>\n",
              "      <td>1.75</td>\n",
              "      <td>NaN</td>\n",
              "      <td>-1.39</td>\n",
              "      <td>1.77</td>\n",
              "      <td>0.13</td>\n",
              "      <td>NaN</td>\n",
              "      <td>NaN</td>\n",
              "      <td>NaN</td>\n",
              "      <td>NaN</td>\n",
              "      <td>1.85</td>\n",
              "      <td>NaN</td>\n",
              "      <td>0.355</td>\n",
              "      <td>0.666</td>\n",
              "      <td>0.519</td>\n",
              "      <td>0.513</td>\n",
              "      <td>0.774</td>\n",
              "      <td>0.690</td>\n",
              "      <td>0.528</td>\n",
              "      <td>24.2</td>\n",
              "    </tr>\n",
              "  </tbody>\n",
              "</table>\n",
              "<p>5 rows × 299 columns</p>\n",
              "</div>"
            ],
            "text/plain": [
              "      Season             Name       Team  ...  Contact% (pi)  Zone% (pi)  Pace (pi)\n",
              "297   2018.0     Jacob deGrom       Mets  ...          0.708       0.513       21.9\n",
              "445   2015.0  Clayton Kershaw    Dodgers  ...          0.689       0.487       23.4\n",
              "315   2014.0  Clayton Kershaw    Dodgers  ...          0.730       0.515       23.7\n",
              "1009  2017.0       Chris Sale    Red Sox  ...          0.704       0.513       20.9\n",
              "679   2018.0     Max Scherzer  Nationals  ...          0.690       0.528       24.2\n",
              "\n",
              "[5 rows x 299 columns]"
            ]
          },
          "metadata": {
            "tags": []
          },
          "execution_count": 5
        }
      ]
    },
    {
      "cell_type": "code",
      "metadata": {
        "id": "EUBGiUcwDKc5",
        "colab_type": "code",
        "colab": {
          "base_uri": "https://localhost:8080/",
          "height": 532
        },
        "outputId": "1cda707b-0218-4392-c2c7-70427bd60268"
      },
      "source": [
        "df['Age'].value_counts(normalize=True)"
      ],
      "execution_count": 6,
      "outputs": [
        {
          "output_type": "execute_result",
          "data": {
            "text/plain": [
              "25.0    0.115739\n",
              "26.0    0.114137\n",
              "27.0    0.113536\n",
              "28.0    0.099119\n",
              "24.0    0.090709\n",
              "29.0    0.083100\n",
              "30.0    0.068282\n",
              "23.0    0.056067\n",
              "31.0    0.055667\n",
              "32.0    0.042050\n",
              "33.0    0.035643\n",
              "22.0    0.028434\n",
              "34.0    0.025631\n",
              "35.0    0.019223\n",
              "36.0    0.013216\n",
              "37.0    0.011013\n",
              "38.0    0.007409\n",
              "21.0    0.007209\n",
              "39.0    0.004205\n",
              "40.0    0.002603\n",
              "41.0    0.002203\n",
              "20.0    0.002002\n",
              "42.0    0.001402\n",
              "19.0    0.000400\n",
              "43.0    0.000400\n",
              "49.0    0.000200\n",
              "45.0    0.000200\n",
              "44.0    0.000200\n",
              "Name: Age, dtype: float64"
            ]
          },
          "metadata": {
            "tags": []
          },
          "execution_count": 6
        }
      ]
    },
    {
      "cell_type": "code",
      "metadata": {
        "id": "IK9_ziNFDt-V",
        "colab_type": "code",
        "colab": {
          "base_uri": "https://localhost:8080/",
          "height": 176
        },
        "outputId": "744e637b-92f1-4ad1-c4ca-b0619249eeb4"
      },
      "source": [
        "df['Age'].describe()"
      ],
      "execution_count": 7,
      "outputs": [
        {
          "output_type": "execute_result",
          "data": {
            "text/plain": [
              "count    4994.000000\n",
              "mean       27.870044\n",
              "std         3.817189\n",
              "min        19.000000\n",
              "25%        25.000000\n",
              "50%        27.000000\n",
              "75%        30.000000\n",
              "max        49.000000\n",
              "Name: Age, dtype: float64"
            ]
          },
          "metadata": {
            "tags": []
          },
          "execution_count": 7
        }
      ]
    },
    {
      "cell_type": "code",
      "metadata": {
        "id": "rf420LqSEZNv",
        "colab_type": "code",
        "colab": {
          "base_uri": "https://localhost:8080/",
          "height": 281
        },
        "outputId": "1739ea63-6226-4a71-a6e6-101c7d5efd2f"
      },
      "source": [
        "sns.distplot(df['Age']);"
      ],
      "execution_count": 8,
      "outputs": [
        {
          "output_type": "display_data",
          "data": {
            "image/png": "[encoded data removed]",
            "text/plain": [
              "<Figure size 432x288 with 1 Axes>"
            ]
          },
          "metadata": {
            "tags": [],
            "needs_background": "light"
          }
        }
      ]
    },
    {
      "cell_type": "code",
      "metadata": {
        "id": "0rEMGbuaGPeb",
        "colab_type": "code",
        "colab": {
          "base_uri": "https://localhost:8080/",
          "height": 34
        },
        "outputId": "c99c7d03-fbba-4231-d319-9a162da2d357"
      },
      "source": [
        "df['Age'].nunique()"
      ],
      "execution_count": 9,
      "outputs": [
        {
          "output_type": "execute_result",
          "data": {
            "text/plain": [
              "28"
            ]
          },
          "metadata": {
            "tags": []
          },
          "execution_count": 9
        }
      ]
    },
    {
      "cell_type": "code",
      "metadata": {
        "id": "7mt3n9x2GXk2",
        "colab_type": "code",
        "colab": {
          "base_uri": "https://localhost:8080/",
          "height": 230
        },
        "outputId": "5d04ab05-8d3a-4c29-dbd0-7bb222089f62"
      },
      "source": [
        "df.isna().sum().sort_values()"
      ],
      "execution_count": 10,
      "outputs": [
        {
          "output_type": "execute_result",
          "data": {
            "text/plain": [
              "Season           0\n",
              "Med%             0\n",
              "Hard%            0\n",
              "kwERA            0\n",
              "TTO%             0\n",
              "              ... \n",
              "SC-Z (pfx)    4985\n",
              "SC-X (pfx)    4985\n",
              "SC% (pfx)     4985\n",
              "vSC (pfx)     4985\n",
              "PO%           4994\n",
              "Length: 299, dtype: int64"
            ]
          },
          "metadata": {
            "tags": []
          },
          "execution_count": 10
        }
      ]
    },
    {
      "cell_type": "code",
      "metadata": {
        "id": "NG9VytxUGh4N",
        "colab_type": "code",
        "colab": {}
      },
      "source": [
        "df = df.fillna('Missing')"
      ],
      "execution_count": 0,
      "outputs": []
    },
    {
      "cell_type": "code",
      "metadata": {
        "id": "WQk9TcZ2MiSS",
        "colab_type": "code",
        "colab": {
          "base_uri": "https://localhost:8080/",
          "height": 176
        },
        "outputId": "450b7a1b-68cb-42b7-9893-4a19915bd18f"
      },
      "source": [
        "df['Season'].describe()"
      ],
      "execution_count": 12,
      "outputs": [
        {
          "output_type": "execute_result",
          "data": {
            "text/plain": [
              "count    4994.000000\n",
              "mean     2015.118142\n",
              "std         1.998612\n",
              "min      2012.000000\n",
              "25%      2013.000000\n",
              "50%      2015.000000\n",
              "75%      2017.000000\n",
              "max      2018.000000\n",
              "Name: Season, dtype: float64"
            ]
          },
          "metadata": {
            "tags": []
          },
          "execution_count": 12
        }
      ]
    },
    {
      "cell_type": "code",
      "metadata": {
        "id": "4tP5PEytJ3oW",
        "colab_type": "code",
        "colab": {}
      },
      "source": [
        "### Make Season numerical ###\n",
        "\n",
        "df['Season'] = pd.to_numeric(df['Season'])"
      ],
      "execution_count": 0,
      "outputs": []
    },
    {
      "cell_type": "code",
      "metadata": {
        "id": "E4Yc-L6CGldV",
        "colab_type": "code",
        "colab": {}
      },
      "source": [
        "# Train, Val, Test\n",
        "\n",
        "train = df[df['Season'] <= 2015.0]\n",
        "val = df[df['Season'] == 2016.0]\n",
        "test = df[df['Season'] >= 2017.0]"
      ],
      "execution_count": 0,
      "outputs": []
    },
    {
      "cell_type": "code",
      "metadata": {
        "id": "s-xucONEG6ax",
        "colab_type": "code",
        "colab": {
          "base_uri": "https://localhost:8080/",
          "height": 34
        },
        "outputId": "86fb4fa4-2c14-4846-c65e-74caf80ca26d"
      },
      "source": [
        "train.shape, val.shape, test.shape"
      ],
      "execution_count": 14,
      "outputs": [
        {
          "output_type": "execute_result",
          "data": {
            "text/plain": [
              "((2731, 299), (736, 299), (1527, 299))"
            ]
          },
          "metadata": {
            "tags": []
          },
          "execution_count": 14
        }
      ]
    },
    {
      "cell_type": "code",
      "metadata": {
        "id": "HQUH3liOH0G5",
        "colab_type": "code",
        "colab": {
          "base_uri": "https://localhost:8080/",
          "height": 283
        },
        "outputId": "8ee0954f-9b77-4e54-a58c-100d9924e8db"
      },
      "source": [
        "pip install category_encoders"
      ],
      "execution_count": 15,
      "outputs": [
        {
          "output_type": "stream",
          "text": [
            "Collecting category_encoders\n",
            "\u001b[?25l  Downloading https://files.pythonhosted.org/packages/a0/52/c54191ad3782de633ea3d6ee3bb2837bda0cf3bc97644bb6375cf14150a0/category_encoders-2.1.0-py2.py3-none-any.whl (100kB)\n",
            "\r\u001b[K     |███▎                            | 10kB 20.3MB/s eta 0:00:01\r\u001b[K     |██████▌                         | 20kB 3.0MB/s eta 0:00:01\r\u001b[K     |█████████▉                      | 30kB 3.6MB/s eta 0:00:01\r\u001b[K     |█████████████                   | 40kB 2.9MB/s eta 0:00:01\r\u001b[K     |████████████████▍               | 51kB 3.3MB/s eta 0:00:01\r\u001b[K     |███████████████████▋            | 61kB 3.9MB/s eta 0:00:01\r\u001b[K     |██████████████████████▉         | 71kB 4.0MB/s eta 0:00:01\r\u001b[K     |██████████████████████████▏     | 81kB 3.9MB/s eta 0:00:01\r\u001b[K     |█████████████████████████████▍  | 92kB 4.4MB/s eta 0:00:01\r\u001b[K     |████████████████████████████████| 102kB 3.6MB/s \n",
            "\u001b[?25hRequirement already satisfied: numpy>=1.11.3 in /usr/local/lib/python3.6/dist-packages (from category_encoders) (1.18.2)\n",
            "Requirement already satisfied: pandas>=0.21.1 in /usr/local/lib/python3.6/dist-packages (from category_encoders) (1.0.3)\n",
            "Requirement already satisfied: patsy>=0.4.1 in /usr/local/lib/python3.6/dist-packages (from category_encoders) (0.5.1)\n",
            "Requirement already satisfied: scipy>=0.19.0 in /usr/local/lib/python3.6/dist-packages (from category_encoders) (1.4.1)\n",
            "Requirement already satisfied: statsmodels>=0.6.1 in /usr/local/lib/python3.6/dist-packages (from category_encoders) (0.10.2)\n",
            "Requirement already satisfied: scikit-learn>=0.20.0 in /usr/local/lib/python3.6/dist-packages (from category_encoders) (0.22.2.post1)\n",
            "Requirement already satisfied: python-dateutil>=2.6.1 in /usr/local/lib/python3.6/dist-packages (from pandas>=0.21.1->category_encoders) (2.8.1)\n",
            "Requirement already satisfied: pytz>=2017.2 in /usr/local/lib/python3.6/dist-packages (from pandas>=0.21.1->category_encoders) (2018.9)\n",
            "Requirement already satisfied: six in /usr/local/lib/python3.6/dist-packages (from patsy>=0.4.1->category_encoders) (1.12.0)\n",
            "Requirement already satisfied: joblib>=0.11 in /usr/local/lib/python3.6/dist-packages (from scikit-learn>=0.20.0->category_encoders) (0.14.1)\n",
            "Installing collected packages: category-encoders\n",
            "Successfully installed category-encoders-2.1.0\n"
          ],
          "name": "stdout"
        }
      ]
    },
    {
      "cell_type": "code",
      "metadata": {
        "id": "L-O2bf9PHFpf",
        "colab_type": "code",
        "colab": {}
      },
      "source": [
        "# Decision Tree\n",
        "import category_encoders as ce\n",
        "from sklearn.pipeline import make_pipeline\n",
        "from sklearn.tree import DecisionTreeClassifier"
      ],
      "execution_count": 0,
      "outputs": []
    },
    {
      "cell_type": "code",
      "metadata": {
        "id": "IKMa97YrI1o8",
        "colab_type": "code",
        "colab": {
          "base_uri": "https://localhost:8080/",
          "height": 54
        },
        "outputId": "d8d43785-9fd8-4b79-a1eb-18f419dd1a36"
      },
      "source": [
        "# The status_group column is the target\n",
        "target = 'Age'\n",
        "\n",
        "# Get a dataframe with all train columns except the target\n",
        "train_features = train.drop(columns=[target])\n",
        "\n",
        "# Get a list of the numeric features\n",
        "numeric_features = train_features.select_dtypes(include='number').columns.tolist()\n",
        "\n",
        "# Get a series with the cardinality of the nonnumeric features\n",
        "cardinality = train_features.select_dtypes(exclude='number').nunique()\n",
        "\n",
        "train_features.select_dtypes(exclude='number').nunique()\n",
        "# Get a list of all categorical features with cardinality <= 50\n",
        "categorical_features = cardinality[cardinality <= 50].index.tolist()\n",
        "\n",
        "# Combine the lists \n",
        "features = numeric_features + categorical_features\n",
        "print(features)"
      ],
      "execution_count": 17,
      "outputs": [
        {
          "output_type": "stream",
          "text": [
            "['Season', 'W', 'L', 'ERA', 'WAR', 'G', 'GS', 'CG', 'ShO', 'SV', 'BS', 'IP', 'TBF', 'H', 'R', 'ER', 'HR', 'BB', 'IBB', 'HBP', 'WP', 'BK', 'SO', 'GB', 'FB', 'LD', 'IFFB', 'Balls', 'Strikes', 'Pitches', 'RS', 'IFH', 'BU', 'BUH', 'K/9', 'BB/9', 'K/BB', 'H/9', 'HR/9', 'AVG', 'WHIP', 'BABIP', 'LOB%', 'FIP', 'GB/FB', 'LD%', 'GB%', 'IFFB%', 'HR/FB', 'IFH%', 'BUH%', 'RAR', 'tERA', 'xFIP', 'WPA', '-WPA', '+WPA', 'RE24', 'REW', 'pLI', 'inLI', 'gmLI', 'Pulls', 'WPA/LI', 'O-Swing%', 'Z-Swing%', 'Swing%', 'Contact%', 'Zone%', 'SwStr%', 'HLD', 'SD', 'MD', 'ERA-', 'FIP-', 'xFIP-', 'K%', 'BB%', 'SIERA', 'RS/9', 'E-F', 'RA9-WAR', 'BIP-Wins', 'LOB-Wins', 'FDP-Wins', 'K-BB%', 'Pull%', 'Cent%', 'Oppo%', 'Soft%', 'Med%', 'Hard%', 'kwERA', 'TTO%', 'Team', 'KN%', 'KNv', 'PO%', 'wKN', 'wKN/C', 'FO% (pfx)', 'EP% (pfx)', 'SC% (pfx)', 'KN% (pfx)', 'UN% (pfx)', 'vFO (pfx)', 'vEP (pfx)', 'vSC (pfx)', 'vKN (pfx)', 'FO-X (pfx)', 'EP-X (pfx)', 'SC-X (pfx)', 'KN-X (pfx)', 'FO-Z (pfx)', 'EP-Z (pfx)', 'SC-Z (pfx)', 'KN-Z (pfx)', 'wFO (pfx)', 'wEP (pfx)', 'wSC (pfx)', 'wKN (pfx)', 'wFO/C (pfx)', 'wEP/C (pfx)', 'wSC/C (pfx)', 'wKN/C (pfx)', 'Age Rng', 'CS% (pi)', 'KN% (pi)', 'SB% (pi)', 'XX% (pi)', 'vKN (pi)', 'vSB (pi)', 'CS-X (pi)', 'KN-X (pi)', 'SB-X (pi)', 'CS-Z (pi)', 'KN-Z (pi)', 'SB-Z (pi)', 'wCS (pi)', 'wKN (pi)', 'wSB (pi)', 'wXX (pi)', 'wKN/C (pi)', 'wSB/C (pi)']\n"
          ],
          "name": "stdout"
        }
      ]
    },
    {
      "cell_type": "code",
      "metadata": {
        "id": "Y_9kVI5OHW6Y",
        "colab_type": "code",
        "colab": {
          "base_uri": "https://localhost:8080/",
          "height": 34
        },
        "outputId": "117ee203-15b4-4f4f-b5f2-e46f0911f289"
      },
      "source": [
        "X_train = train[features]\n",
        "y_train = train[target]\n",
        "X_val = val[features]\n",
        "y_val = val[target]\n",
        "\n",
        "pipeline = make_pipeline(\n",
        "    ce.OrdinalEncoder(), \n",
        "    DecisionTreeClassifier(max_depth=3)\n",
        ")\n",
        "\n",
        "pipeline.fit(X_train, y_train)\n",
        "print('Validation Accuracy', pipeline.score(X_val, y_val))"
      ],
      "execution_count": 25,
      "outputs": [
        {
          "output_type": "stream",
          "text": [
            "Validation Accuracy 0.453804347826087\n"
          ],
          "name": "stdout"
        }
      ]
    },
    {
      "cell_type": "code",
      "metadata": {
        "id": "q5q3BVSGH8Rv",
        "colab_type": "code",
        "colab": {}
      },
      "source": [
        "import category_encoders as ce\n",
        "from sklearn.ensemble import RandomForestClassifier\n",
        "from sklearn.impute import SimpleImputer\n",
        "from sklearn.pipeline import make_pipeline\n",
        "from sklearn.feature_selection import SelectKBest"
      ],
      "execution_count": 0,
      "outputs": []
    },
    {
      "cell_type": "code",
      "metadata": {
        "id": "T038p8kKKzs4",
        "colab_type": "code",
        "colab": {
          "base_uri": "https://localhost:8080/",
          "height": 70
        },
        "outputId": "1dc09350-406a-4a86-efce-0ab0c82e0c5b"
      },
      "source": [
        "# Random Forest\n",
        "\n",
        "%%time\n",
        "\n",
        "\n",
        "pipeline = make_pipeline(\n",
        "    ce.OrdinalEncoder(),\n",
        "    SimpleImputer(),\n",
        "    SelectKBest(k=25),\n",
        "    RandomForestClassifier(random_state=0, n_jobs=-1)\n",
        ")\n",
        "pipeline.fit(X_train, y_train)\n",
        "print ('Validation Accuracy', pipeline.score(X_val, y_val))"
      ],
      "execution_count": 27,
      "outputs": [
        {
          "output_type": "stream",
          "text": [
            "Validation Accuracy 0.8192934782608695\n",
            "CPU times: user 1.59 s, sys: 30.3 ms, total: 1.62 s\n",
            "Wall time: 1.23 s\n"
          ],
          "name": "stdout"
        }
      ]
    },
    {
      "cell_type": "code",
      "metadata": {
        "id": "HL0Y574d3xXY",
        "colab_type": "code",
        "colab": {}
      },
      "source": [
        "# I want to dive more into the data and other categories and see if they work\n",
        "# and what their correlation is"
      ],
      "execution_count": 0,
      "outputs": []
    },
    {
      "cell_type": "code",
      "metadata": {
        "id": "CelkyfGM8WUP",
        "colab_type": "code",
        "colab": {}
      },
      "source": [
        ""
      ],
      "execution_count": 0,
      "outputs": []
    }
  ]
}